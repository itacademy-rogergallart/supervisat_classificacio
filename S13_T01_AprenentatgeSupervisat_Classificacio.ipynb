{
  "nbformat": 4,
  "nbformat_minor": 0,
  "metadata": {
    "colab": {
      "name": "S13_T01_AprenentatgeSupervisat_Classificacio.ipynb",
      "provenance": [],
      "collapsed_sections": [
        "FjiBn7aS3ytZ"
      ],
      "authorship_tag": "ABX9TyOAaJHAUth2YMkFDP3raCll",
      "include_colab_link": true
    },
    "kernelspec": {
      "display_name": "Python 3",
      "name": "python3"
    },
    "language_info": {
      "name": "python"
    },
    "widgets": {
      "application/vnd.jupyter.widget-state+json": {
        "754946335bf44558a3b528a8a967470e": {
          "model_module": "@jupyter-widgets/controls",
          "model_name": "HBoxModel",
          "model_module_version": "1.5.0",
          "state": {
            "_view_name": "HBoxView",
            "_dom_classes": [],
            "_model_name": "HBoxModel",
            "_view_module": "@jupyter-widgets/controls",
            "_model_module_version": "1.5.0",
            "_view_count": null,
            "_view_module_version": "1.5.0",
            "box_style": "",
            "layout": "IPY_MODEL_250d625167e64adc9f43cc033d221478",
            "_model_module": "@jupyter-widgets/controls",
            "children": [
              "IPY_MODEL_115fb36dd334417982ea95f27012a93c",
              "IPY_MODEL_b72801f737c2497bb9411a2321cf77d6",
              "IPY_MODEL_ad589aace5d141c8ae239fe6641258d1"
            ]
          }
        },
        "250d625167e64adc9f43cc033d221478": {
          "model_module": "@jupyter-widgets/base",
          "model_name": "LayoutModel",
          "model_module_version": "1.2.0",
          "state": {
            "_view_name": "LayoutView",
            "grid_template_rows": null,
            "right": null,
            "justify_content": null,
            "_view_module": "@jupyter-widgets/base",
            "overflow": null,
            "_model_module_version": "1.2.0",
            "_view_count": null,
            "flex_flow": null,
            "width": null,
            "min_width": null,
            "border": null,
            "align_items": null,
            "bottom": null,
            "_model_module": "@jupyter-widgets/base",
            "top": null,
            "grid_column": null,
            "overflow_y": null,
            "overflow_x": null,
            "grid_auto_flow": null,
            "grid_area": null,
            "grid_template_columns": null,
            "flex": null,
            "_model_name": "LayoutModel",
            "justify_items": null,
            "grid_row": null,
            "max_height": null,
            "align_content": null,
            "visibility": null,
            "align_self": null,
            "height": null,
            "min_height": null,
            "padding": null,
            "grid_auto_rows": null,
            "grid_gap": null,
            "max_width": null,
            "order": null,
            "_view_module_version": "1.2.0",
            "grid_template_areas": null,
            "object_position": null,
            "object_fit": null,
            "grid_auto_columns": null,
            "margin": null,
            "display": null,
            "left": null
          }
        },
        "115fb36dd334417982ea95f27012a93c": {
          "model_module": "@jupyter-widgets/controls",
          "model_name": "HTMLModel",
          "model_module_version": "1.5.0",
          "state": {
            "_view_name": "HTMLView",
            "style": "IPY_MODEL_c86ca99885b74c1da12a3691eba4f173",
            "_dom_classes": [],
            "description": "",
            "_model_name": "HTMLModel",
            "placeholder": "​",
            "_view_module": "@jupyter-widgets/controls",
            "_model_module_version": "1.5.0",
            "value": "100%",
            "_view_count": null,
            "_view_module_version": "1.5.0",
            "description_tooltip": null,
            "_model_module": "@jupyter-widgets/controls",
            "layout": "IPY_MODEL_89770d1688ba461794695e568a9d82c9"
          }
        },
        "b72801f737c2497bb9411a2321cf77d6": {
          "model_module": "@jupyter-widgets/controls",
          "model_name": "FloatProgressModel",
          "model_module_version": "1.5.0",
          "state": {
            "_view_name": "ProgressView",
            "style": "IPY_MODEL_accf9482d5124bbc80f25e26e86f92fc",
            "_dom_classes": [],
            "description": "",
            "_model_name": "FloatProgressModel",
            "bar_style": "success",
            "max": 4,
            "_view_module": "@jupyter-widgets/controls",
            "_model_module_version": "1.5.0",
            "value": 4,
            "_view_count": null,
            "_view_module_version": "1.5.0",
            "orientation": "horizontal",
            "min": 0,
            "description_tooltip": null,
            "_model_module": "@jupyter-widgets/controls",
            "layout": "IPY_MODEL_0b60ce06d905447c9692cb35bfd8541e"
          }
        },
        "ad589aace5d141c8ae239fe6641258d1": {
          "model_module": "@jupyter-widgets/controls",
          "model_name": "HTMLModel",
          "model_module_version": "1.5.0",
          "state": {
            "_view_name": "HTMLView",
            "style": "IPY_MODEL_dea08e74c13948bfbefaea9f7d7018d2",
            "_dom_classes": [],
            "description": "",
            "_model_name": "HTMLModel",
            "placeholder": "​",
            "_view_module": "@jupyter-widgets/controls",
            "_model_module_version": "1.5.0",
            "value": " 4/4 [02:09&lt;00:00, 33.26s/it]",
            "_view_count": null,
            "_view_module_version": "1.5.0",
            "description_tooltip": null,
            "_model_module": "@jupyter-widgets/controls",
            "layout": "IPY_MODEL_baae050eecbd4deba3e962dc8456d363"
          }
        },
        "c86ca99885b74c1da12a3691eba4f173": {
          "model_module": "@jupyter-widgets/controls",
          "model_name": "DescriptionStyleModel",
          "model_module_version": "1.5.0",
          "state": {
            "_view_name": "StyleView",
            "_model_name": "DescriptionStyleModel",
            "description_width": "",
            "_view_module": "@jupyter-widgets/base",
            "_model_module_version": "1.5.0",
            "_view_count": null,
            "_view_module_version": "1.2.0",
            "_model_module": "@jupyter-widgets/controls"
          }
        },
        "89770d1688ba461794695e568a9d82c9": {
          "model_module": "@jupyter-widgets/base",
          "model_name": "LayoutModel",
          "model_module_version": "1.2.0",
          "state": {
            "_view_name": "LayoutView",
            "grid_template_rows": null,
            "right": null,
            "justify_content": null,
            "_view_module": "@jupyter-widgets/base",
            "overflow": null,
            "_model_module_version": "1.2.0",
            "_view_count": null,
            "flex_flow": null,
            "width": null,
            "min_width": null,
            "border": null,
            "align_items": null,
            "bottom": null,
            "_model_module": "@jupyter-widgets/base",
            "top": null,
            "grid_column": null,
            "overflow_y": null,
            "overflow_x": null,
            "grid_auto_flow": null,
            "grid_area": null,
            "grid_template_columns": null,
            "flex": null,
            "_model_name": "LayoutModel",
            "justify_items": null,
            "grid_row": null,
            "max_height": null,
            "align_content": null,
            "visibility": null,
            "align_self": null,
            "height": null,
            "min_height": null,
            "padding": null,
            "grid_auto_rows": null,
            "grid_gap": null,
            "max_width": null,
            "order": null,
            "_view_module_version": "1.2.0",
            "grid_template_areas": null,
            "object_position": null,
            "object_fit": null,
            "grid_auto_columns": null,
            "margin": null,
            "display": null,
            "left": null
          }
        },
        "accf9482d5124bbc80f25e26e86f92fc": {
          "model_module": "@jupyter-widgets/controls",
          "model_name": "ProgressStyleModel",
          "model_module_version": "1.5.0",
          "state": {
            "_view_name": "StyleView",
            "_model_name": "ProgressStyleModel",
            "description_width": "",
            "_view_module": "@jupyter-widgets/base",
            "_model_module_version": "1.5.0",
            "_view_count": null,
            "_view_module_version": "1.2.0",
            "bar_color": null,
            "_model_module": "@jupyter-widgets/controls"
          }
        },
        "0b60ce06d905447c9692cb35bfd8541e": {
          "model_module": "@jupyter-widgets/base",
          "model_name": "LayoutModel",
          "model_module_version": "1.2.0",
          "state": {
            "_view_name": "LayoutView",
            "grid_template_rows": null,
            "right": null,
            "justify_content": null,
            "_view_module": "@jupyter-widgets/base",
            "overflow": null,
            "_model_module_version": "1.2.0",
            "_view_count": null,
            "flex_flow": null,
            "width": null,
            "min_width": null,
            "border": null,
            "align_items": null,
            "bottom": null,
            "_model_module": "@jupyter-widgets/base",
            "top": null,
            "grid_column": null,
            "overflow_y": null,
            "overflow_x": null,
            "grid_auto_flow": null,
            "grid_area": null,
            "grid_template_columns": null,
            "flex": null,
            "_model_name": "LayoutModel",
            "justify_items": null,
            "grid_row": null,
            "max_height": null,
            "align_content": null,
            "visibility": null,
            "align_self": null,
            "height": null,
            "min_height": null,
            "padding": null,
            "grid_auto_rows": null,
            "grid_gap": null,
            "max_width": null,
            "order": null,
            "_view_module_version": "1.2.0",
            "grid_template_areas": null,
            "object_position": null,
            "object_fit": null,
            "grid_auto_columns": null,
            "margin": null,
            "display": null,
            "left": null
          }
        },
        "dea08e74c13948bfbefaea9f7d7018d2": {
          "model_module": "@jupyter-widgets/controls",
          "model_name": "DescriptionStyleModel",
          "model_module_version": "1.5.0",
          "state": {
            "_view_name": "StyleView",
            "_model_name": "DescriptionStyleModel",
            "description_width": "",
            "_view_module": "@jupyter-widgets/base",
            "_model_module_version": "1.5.0",
            "_view_count": null,
            "_view_module_version": "1.2.0",
            "_model_module": "@jupyter-widgets/controls"
          }
        },
        "baae050eecbd4deba3e962dc8456d363": {
          "model_module": "@jupyter-widgets/base",
          "model_name": "LayoutModel",
          "model_module_version": "1.2.0",
          "state": {
            "_view_name": "LayoutView",
            "grid_template_rows": null,
            "right": null,
            "justify_content": null,
            "_view_module": "@jupyter-widgets/base",
            "overflow": null,
            "_model_module_version": "1.2.0",
            "_view_count": null,
            "flex_flow": null,
            "width": null,
            "min_width": null,
            "border": null,
            "align_items": null,
            "bottom": null,
            "_model_module": "@jupyter-widgets/base",
            "top": null,
            "grid_column": null,
            "overflow_y": null,
            "overflow_x": null,
            "grid_auto_flow": null,
            "grid_area": null,
            "grid_template_columns": null,
            "flex": null,
            "_model_name": "LayoutModel",
            "justify_items": null,
            "grid_row": null,
            "max_height": null,
            "align_content": null,
            "visibility": null,
            "align_self": null,
            "height": null,
            "min_height": null,
            "padding": null,
            "grid_auto_rows": null,
            "grid_gap": null,
            "max_width": null,
            "order": null,
            "_view_module_version": "1.2.0",
            "grid_template_areas": null,
            "object_position": null,
            "object_fit": null,
            "grid_auto_columns": null,
            "margin": null,
            "display": null,
            "left": null
          }
        },
        "91fd4966f65f44cdbf93d8a59ea885cd": {
          "model_module": "@jupyter-widgets/controls",
          "model_name": "HBoxModel",
          "model_module_version": "1.5.0",
          "state": {
            "_view_name": "HBoxView",
            "_dom_classes": [],
            "_model_name": "HBoxModel",
            "_view_module": "@jupyter-widgets/controls",
            "_model_module_version": "1.5.0",
            "_view_count": null,
            "_view_module_version": "1.5.0",
            "box_style": "",
            "layout": "IPY_MODEL_e715e1620cd649498cf075c7ed82bfba",
            "_model_module": "@jupyter-widgets/controls",
            "children": [
              "IPY_MODEL_e3a97532b22e41d4ad18ca46713b0f4a",
              "IPY_MODEL_b30bed3105d84d16ad607cb8441a1777",
              "IPY_MODEL_5892f51e865846d3ac7ede0290f0c31b"
            ]
          }
        },
        "e715e1620cd649498cf075c7ed82bfba": {
          "model_module": "@jupyter-widgets/base",
          "model_name": "LayoutModel",
          "model_module_version": "1.2.0",
          "state": {
            "_view_name": "LayoutView",
            "grid_template_rows": null,
            "right": null,
            "justify_content": null,
            "_view_module": "@jupyter-widgets/base",
            "overflow": null,
            "_model_module_version": "1.2.0",
            "_view_count": null,
            "flex_flow": null,
            "width": null,
            "min_width": null,
            "border": null,
            "align_items": null,
            "bottom": null,
            "_model_module": "@jupyter-widgets/base",
            "top": null,
            "grid_column": null,
            "overflow_y": null,
            "overflow_x": null,
            "grid_auto_flow": null,
            "grid_area": null,
            "grid_template_columns": null,
            "flex": null,
            "_model_name": "LayoutModel",
            "justify_items": null,
            "grid_row": null,
            "max_height": null,
            "align_content": null,
            "visibility": null,
            "align_self": null,
            "height": null,
            "min_height": null,
            "padding": null,
            "grid_auto_rows": null,
            "grid_gap": null,
            "max_width": null,
            "order": null,
            "_view_module_version": "1.2.0",
            "grid_template_areas": null,
            "object_position": null,
            "object_fit": null,
            "grid_auto_columns": null,
            "margin": null,
            "display": null,
            "left": null
          }
        },
        "e3a97532b22e41d4ad18ca46713b0f4a": {
          "model_module": "@jupyter-widgets/controls",
          "model_name": "HTMLModel",
          "model_module_version": "1.5.0",
          "state": {
            "_view_name": "HTMLView",
            "style": "IPY_MODEL_6e1734e909314a37a123b4ba41b7872b",
            "_dom_classes": [],
            "description": "",
            "_model_name": "HTMLModel",
            "placeholder": "​",
            "_view_module": "@jupyter-widgets/controls",
            "_model_module_version": "1.5.0",
            "value": "100%",
            "_view_count": null,
            "_view_module_version": "1.5.0",
            "description_tooltip": null,
            "_model_module": "@jupyter-widgets/controls",
            "layout": "IPY_MODEL_65ff96461df64b709800d726ea910af6"
          }
        },
        "b30bed3105d84d16ad607cb8441a1777": {
          "model_module": "@jupyter-widgets/controls",
          "model_name": "FloatProgressModel",
          "model_module_version": "1.5.0",
          "state": {
            "_view_name": "ProgressView",
            "style": "IPY_MODEL_614500ef192143e1b8b7dd1a5a278823",
            "_dom_classes": [],
            "description": "",
            "_model_name": "FloatProgressModel",
            "bar_style": "success",
            "max": 4,
            "_view_module": "@jupyter-widgets/controls",
            "_model_module_version": "1.5.0",
            "value": 4,
            "_view_count": null,
            "_view_module_version": "1.5.0",
            "orientation": "horizontal",
            "min": 0,
            "description_tooltip": null,
            "_model_module": "@jupyter-widgets/controls",
            "layout": "IPY_MODEL_dcf49361c99a4b3787431a517559e48f"
          }
        },
        "5892f51e865846d3ac7ede0290f0c31b": {
          "model_module": "@jupyter-widgets/controls",
          "model_name": "HTMLModel",
          "model_module_version": "1.5.0",
          "state": {
            "_view_name": "HTMLView",
            "style": "IPY_MODEL_f45ba1f080bb4c36b057d504723c3fc4",
            "_dom_classes": [],
            "description": "",
            "_model_name": "HTMLModel",
            "placeholder": "​",
            "_view_module": "@jupyter-widgets/controls",
            "_model_module_version": "1.5.0",
            "value": " 4/4 [02:02&lt;00:00, 31.09s/it]",
            "_view_count": null,
            "_view_module_version": "1.5.0",
            "description_tooltip": null,
            "_model_module": "@jupyter-widgets/controls",
            "layout": "IPY_MODEL_228cd5e0aed544378f95a95d612159c9"
          }
        },
        "6e1734e909314a37a123b4ba41b7872b": {
          "model_module": "@jupyter-widgets/controls",
          "model_name": "DescriptionStyleModel",
          "model_module_version": "1.5.0",
          "state": {
            "_view_name": "StyleView",
            "_model_name": "DescriptionStyleModel",
            "description_width": "",
            "_view_module": "@jupyter-widgets/base",
            "_model_module_version": "1.5.0",
            "_view_count": null,
            "_view_module_version": "1.2.0",
            "_model_module": "@jupyter-widgets/controls"
          }
        },
        "65ff96461df64b709800d726ea910af6": {
          "model_module": "@jupyter-widgets/base",
          "model_name": "LayoutModel",
          "model_module_version": "1.2.0",
          "state": {
            "_view_name": "LayoutView",
            "grid_template_rows": null,
            "right": null,
            "justify_content": null,
            "_view_module": "@jupyter-widgets/base",
            "overflow": null,
            "_model_module_version": "1.2.0",
            "_view_count": null,
            "flex_flow": null,
            "width": null,
            "min_width": null,
            "border": null,
            "align_items": null,
            "bottom": null,
            "_model_module": "@jupyter-widgets/base",
            "top": null,
            "grid_column": null,
            "overflow_y": null,
            "overflow_x": null,
            "grid_auto_flow": null,
            "grid_area": null,
            "grid_template_columns": null,
            "flex": null,
            "_model_name": "LayoutModel",
            "justify_items": null,
            "grid_row": null,
            "max_height": null,
            "align_content": null,
            "visibility": null,
            "align_self": null,
            "height": null,
            "min_height": null,
            "padding": null,
            "grid_auto_rows": null,
            "grid_gap": null,
            "max_width": null,
            "order": null,
            "_view_module_version": "1.2.0",
            "grid_template_areas": null,
            "object_position": null,
            "object_fit": null,
            "grid_auto_columns": null,
            "margin": null,
            "display": null,
            "left": null
          }
        },
        "614500ef192143e1b8b7dd1a5a278823": {
          "model_module": "@jupyter-widgets/controls",
          "model_name": "ProgressStyleModel",
          "model_module_version": "1.5.0",
          "state": {
            "_view_name": "StyleView",
            "_model_name": "ProgressStyleModel",
            "description_width": "",
            "_view_module": "@jupyter-widgets/base",
            "_model_module_version": "1.5.0",
            "_view_count": null,
            "_view_module_version": "1.2.0",
            "bar_color": null,
            "_model_module": "@jupyter-widgets/controls"
          }
        },
        "dcf49361c99a4b3787431a517559e48f": {
          "model_module": "@jupyter-widgets/base",
          "model_name": "LayoutModel",
          "model_module_version": "1.2.0",
          "state": {
            "_view_name": "LayoutView",
            "grid_template_rows": null,
            "right": null,
            "justify_content": null,
            "_view_module": "@jupyter-widgets/base",
            "overflow": null,
            "_model_module_version": "1.2.0",
            "_view_count": null,
            "flex_flow": null,
            "width": null,
            "min_width": null,
            "border": null,
            "align_items": null,
            "bottom": null,
            "_model_module": "@jupyter-widgets/base",
            "top": null,
            "grid_column": null,
            "overflow_y": null,
            "overflow_x": null,
            "grid_auto_flow": null,
            "grid_area": null,
            "grid_template_columns": null,
            "flex": null,
            "_model_name": "LayoutModel",
            "justify_items": null,
            "grid_row": null,
            "max_height": null,
            "align_content": null,
            "visibility": null,
            "align_self": null,
            "height": null,
            "min_height": null,
            "padding": null,
            "grid_auto_rows": null,
            "grid_gap": null,
            "max_width": null,
            "order": null,
            "_view_module_version": "1.2.0",
            "grid_template_areas": null,
            "object_position": null,
            "object_fit": null,
            "grid_auto_columns": null,
            "margin": null,
            "display": null,
            "left": null
          }
        },
        "f45ba1f080bb4c36b057d504723c3fc4": {
          "model_module": "@jupyter-widgets/controls",
          "model_name": "DescriptionStyleModel",
          "model_module_version": "1.5.0",
          "state": {
            "_view_name": "StyleView",
            "_model_name": "DescriptionStyleModel",
            "description_width": "",
            "_view_module": "@jupyter-widgets/base",
            "_model_module_version": "1.5.0",
            "_view_count": null,
            "_view_module_version": "1.2.0",
            "_model_module": "@jupyter-widgets/controls"
          }
        },
        "228cd5e0aed544378f95a95d612159c9": {
          "model_module": "@jupyter-widgets/base",
          "model_name": "LayoutModel",
          "model_module_version": "1.2.0",
          "state": {
            "_view_name": "LayoutView",
            "grid_template_rows": null,
            "right": null,
            "justify_content": null,
            "_view_module": "@jupyter-widgets/base",
            "overflow": null,
            "_model_module_version": "1.2.0",
            "_view_count": null,
            "flex_flow": null,
            "width": null,
            "min_width": null,
            "border": null,
            "align_items": null,
            "bottom": null,
            "_model_module": "@jupyter-widgets/base",
            "top": null,
            "grid_column": null,
            "overflow_y": null,
            "overflow_x": null,
            "grid_auto_flow": null,
            "grid_area": null,
            "grid_template_columns": null,
            "flex": null,
            "_model_name": "LayoutModel",
            "justify_items": null,
            "grid_row": null,
            "max_height": null,
            "align_content": null,
            "visibility": null,
            "align_self": null,
            "height": null,
            "min_height": null,
            "padding": null,
            "grid_auto_rows": null,
            "grid_gap": null,
            "max_width": null,
            "order": null,
            "_view_module_version": "1.2.0",
            "grid_template_areas": null,
            "object_position": null,
            "object_fit": null,
            "grid_auto_columns": null,
            "margin": null,
            "display": null,
            "left": null
          }
        },
        "75c43469c79e4899b7d031a40cf0fad5": {
          "model_module": "@jupyter-widgets/controls",
          "model_name": "HBoxModel",
          "model_module_version": "1.5.0",
          "state": {
            "_view_name": "HBoxView",
            "_dom_classes": [],
            "_model_name": "HBoxModel",
            "_view_module": "@jupyter-widgets/controls",
            "_model_module_version": "1.5.0",
            "_view_count": null,
            "_view_module_version": "1.5.0",
            "box_style": "",
            "layout": "IPY_MODEL_957bf62e30914771abe4e4eb2b6ed055",
            "_model_module": "@jupyter-widgets/controls",
            "children": [
              "IPY_MODEL_db36668d9ad249d5b9787e8399e30568",
              "IPY_MODEL_8bbd8d468d3f45e890972a28aa089505",
              "IPY_MODEL_ebc89436e9894fc2ad311990c8aa72d9"
            ]
          }
        },
        "957bf62e30914771abe4e4eb2b6ed055": {
          "model_module": "@jupyter-widgets/base",
          "model_name": "LayoutModel",
          "model_module_version": "1.2.0",
          "state": {
            "_view_name": "LayoutView",
            "grid_template_rows": null,
            "right": null,
            "justify_content": null,
            "_view_module": "@jupyter-widgets/base",
            "overflow": null,
            "_model_module_version": "1.2.0",
            "_view_count": null,
            "flex_flow": null,
            "width": null,
            "min_width": null,
            "border": null,
            "align_items": null,
            "bottom": null,
            "_model_module": "@jupyter-widgets/base",
            "top": null,
            "grid_column": null,
            "overflow_y": null,
            "overflow_x": null,
            "grid_auto_flow": null,
            "grid_area": null,
            "grid_template_columns": null,
            "flex": null,
            "_model_name": "LayoutModel",
            "justify_items": null,
            "grid_row": null,
            "max_height": null,
            "align_content": null,
            "visibility": null,
            "align_self": null,
            "height": null,
            "min_height": null,
            "padding": null,
            "grid_auto_rows": null,
            "grid_gap": null,
            "max_width": null,
            "order": null,
            "_view_module_version": "1.2.0",
            "grid_template_areas": null,
            "object_position": null,
            "object_fit": null,
            "grid_auto_columns": null,
            "margin": null,
            "display": null,
            "left": null
          }
        },
        "db36668d9ad249d5b9787e8399e30568": {
          "model_module": "@jupyter-widgets/controls",
          "model_name": "HTMLModel",
          "model_module_version": "1.5.0",
          "state": {
            "_view_name": "HTMLView",
            "style": "IPY_MODEL_4d8ed75d85aa4c048a0106932d127fb0",
            "_dom_classes": [],
            "description": "",
            "_model_name": "HTMLModel",
            "placeholder": "​",
            "_view_module": "@jupyter-widgets/controls",
            "_model_module_version": "1.5.0",
            "value": "100%",
            "_view_count": null,
            "_view_module_version": "1.5.0",
            "description_tooltip": null,
            "_model_module": "@jupyter-widgets/controls",
            "layout": "IPY_MODEL_c4bd321f5a574c49b441b4a53388e1bf"
          }
        },
        "8bbd8d468d3f45e890972a28aa089505": {
          "model_module": "@jupyter-widgets/controls",
          "model_name": "FloatProgressModel",
          "model_module_version": "1.5.0",
          "state": {
            "_view_name": "ProgressView",
            "style": "IPY_MODEL_25bc96bb05dd488bab0506a786c4a49f",
            "_dom_classes": [],
            "description": "",
            "_model_name": "FloatProgressModel",
            "bar_style": "success",
            "max": 4,
            "_view_module": "@jupyter-widgets/controls",
            "_model_module_version": "1.5.0",
            "value": 4,
            "_view_count": null,
            "_view_module_version": "1.5.0",
            "orientation": "horizontal",
            "min": 0,
            "description_tooltip": null,
            "_model_module": "@jupyter-widgets/controls",
            "layout": "IPY_MODEL_52a868a60eaf408692debddad5dcdff5"
          }
        },
        "ebc89436e9894fc2ad311990c8aa72d9": {
          "model_module": "@jupyter-widgets/controls",
          "model_name": "HTMLModel",
          "model_module_version": "1.5.0",
          "state": {
            "_view_name": "HTMLView",
            "style": "IPY_MODEL_1f5bdb99122747e6b02725db4c9ba2b6",
            "_dom_classes": [],
            "description": "",
            "_model_name": "HTMLModel",
            "placeholder": "​",
            "_view_module": "@jupyter-widgets/controls",
            "_model_module_version": "1.5.0",
            "value": " 4/4 [02:57&lt;00:00, 48.38s/it]",
            "_view_count": null,
            "_view_module_version": "1.5.0",
            "description_tooltip": null,
            "_model_module": "@jupyter-widgets/controls",
            "layout": "IPY_MODEL_169a44ffe54e4259adf98f08c4167aef"
          }
        },
        "4d8ed75d85aa4c048a0106932d127fb0": {
          "model_module": "@jupyter-widgets/controls",
          "model_name": "DescriptionStyleModel",
          "model_module_version": "1.5.0",
          "state": {
            "_view_name": "StyleView",
            "_model_name": "DescriptionStyleModel",
            "description_width": "",
            "_view_module": "@jupyter-widgets/base",
            "_model_module_version": "1.5.0",
            "_view_count": null,
            "_view_module_version": "1.2.0",
            "_model_module": "@jupyter-widgets/controls"
          }
        },
        "c4bd321f5a574c49b441b4a53388e1bf": {
          "model_module": "@jupyter-widgets/base",
          "model_name": "LayoutModel",
          "model_module_version": "1.2.0",
          "state": {
            "_view_name": "LayoutView",
            "grid_template_rows": null,
            "right": null,
            "justify_content": null,
            "_view_module": "@jupyter-widgets/base",
            "overflow": null,
            "_model_module_version": "1.2.0",
            "_view_count": null,
            "flex_flow": null,
            "width": null,
            "min_width": null,
            "border": null,
            "align_items": null,
            "bottom": null,
            "_model_module": "@jupyter-widgets/base",
            "top": null,
            "grid_column": null,
            "overflow_y": null,
            "overflow_x": null,
            "grid_auto_flow": null,
            "grid_area": null,
            "grid_template_columns": null,
            "flex": null,
            "_model_name": "LayoutModel",
            "justify_items": null,
            "grid_row": null,
            "max_height": null,
            "align_content": null,
            "visibility": null,
            "align_self": null,
            "height": null,
            "min_height": null,
            "padding": null,
            "grid_auto_rows": null,
            "grid_gap": null,
            "max_width": null,
            "order": null,
            "_view_module_version": "1.2.0",
            "grid_template_areas": null,
            "object_position": null,
            "object_fit": null,
            "grid_auto_columns": null,
            "margin": null,
            "display": null,
            "left": null
          }
        },
        "25bc96bb05dd488bab0506a786c4a49f": {
          "model_module": "@jupyter-widgets/controls",
          "model_name": "ProgressStyleModel",
          "model_module_version": "1.5.0",
          "state": {
            "_view_name": "StyleView",
            "_model_name": "ProgressStyleModel",
            "description_width": "",
            "_view_module": "@jupyter-widgets/base",
            "_model_module_version": "1.5.0",
            "_view_count": null,
            "_view_module_version": "1.2.0",
            "bar_color": null,
            "_model_module": "@jupyter-widgets/controls"
          }
        },
        "52a868a60eaf408692debddad5dcdff5": {
          "model_module": "@jupyter-widgets/base",
          "model_name": "LayoutModel",
          "model_module_version": "1.2.0",
          "state": {
            "_view_name": "LayoutView",
            "grid_template_rows": null,
            "right": null,
            "justify_content": null,
            "_view_module": "@jupyter-widgets/base",
            "overflow": null,
            "_model_module_version": "1.2.0",
            "_view_count": null,
            "flex_flow": null,
            "width": null,
            "min_width": null,
            "border": null,
            "align_items": null,
            "bottom": null,
            "_model_module": "@jupyter-widgets/base",
            "top": null,
            "grid_column": null,
            "overflow_y": null,
            "overflow_x": null,
            "grid_auto_flow": null,
            "grid_area": null,
            "grid_template_columns": null,
            "flex": null,
            "_model_name": "LayoutModel",
            "justify_items": null,
            "grid_row": null,
            "max_height": null,
            "align_content": null,
            "visibility": null,
            "align_self": null,
            "height": null,
            "min_height": null,
            "padding": null,
            "grid_auto_rows": null,
            "grid_gap": null,
            "max_width": null,
            "order": null,
            "_view_module_version": "1.2.0",
            "grid_template_areas": null,
            "object_position": null,
            "object_fit": null,
            "grid_auto_columns": null,
            "margin": null,
            "display": null,
            "left": null
          }
        },
        "1f5bdb99122747e6b02725db4c9ba2b6": {
          "model_module": "@jupyter-widgets/controls",
          "model_name": "DescriptionStyleModel",
          "model_module_version": "1.5.0",
          "state": {
            "_view_name": "StyleView",
            "_model_name": "DescriptionStyleModel",
            "description_width": "",
            "_view_module": "@jupyter-widgets/base",
            "_model_module_version": "1.5.0",
            "_view_count": null,
            "_view_module_version": "1.2.0",
            "_model_module": "@jupyter-widgets/controls"
          }
        },
        "169a44ffe54e4259adf98f08c4167aef": {
          "model_module": "@jupyter-widgets/base",
          "model_name": "LayoutModel",
          "model_module_version": "1.2.0",
          "state": {
            "_view_name": "LayoutView",
            "grid_template_rows": null,
            "right": null,
            "justify_content": null,
            "_view_module": "@jupyter-widgets/base",
            "overflow": null,
            "_model_module_version": "1.2.0",
            "_view_count": null,
            "flex_flow": null,
            "width": null,
            "min_width": null,
            "border": null,
            "align_items": null,
            "bottom": null,
            "_model_module": "@jupyter-widgets/base",
            "top": null,
            "grid_column": null,
            "overflow_y": null,
            "overflow_x": null,
            "grid_auto_flow": null,
            "grid_area": null,
            "grid_template_columns": null,
            "flex": null,
            "_model_name": "LayoutModel",
            "justify_items": null,
            "grid_row": null,
            "max_height": null,
            "align_content": null,
            "visibility": null,
            "align_self": null,
            "height": null,
            "min_height": null,
            "padding": null,
            "grid_auto_rows": null,
            "grid_gap": null,
            "max_width": null,
            "order": null,
            "_view_module_version": "1.2.0",
            "grid_template_areas": null,
            "object_position": null,
            "object_fit": null,
            "grid_auto_columns": null,
            "margin": null,
            "display": null,
            "left": null
          }
        },
        "d74c28c5a19d46c99e3a8e2877a796ff": {
          "model_module": "@jupyter-widgets/controls",
          "model_name": "HBoxModel",
          "model_module_version": "1.5.0",
          "state": {
            "_view_name": "HBoxView",
            "_dom_classes": [],
            "_model_name": "HBoxModel",
            "_view_module": "@jupyter-widgets/controls",
            "_model_module_version": "1.5.0",
            "_view_count": null,
            "_view_module_version": "1.5.0",
            "box_style": "",
            "layout": "IPY_MODEL_dff32d1de551411887ad0d0acba92cc7",
            "_model_module": "@jupyter-widgets/controls",
            "children": [
              "IPY_MODEL_32385e03faeb4028b5e11d32a2d231bd",
              "IPY_MODEL_52144c024c7343b6810967e321a575a1",
              "IPY_MODEL_7e1d5bc1b864457eb4c158e7b0045a9d"
            ]
          }
        },
        "dff32d1de551411887ad0d0acba92cc7": {
          "model_module": "@jupyter-widgets/base",
          "model_name": "LayoutModel",
          "model_module_version": "1.2.0",
          "state": {
            "_view_name": "LayoutView",
            "grid_template_rows": null,
            "right": null,
            "justify_content": null,
            "_view_module": "@jupyter-widgets/base",
            "overflow": null,
            "_model_module_version": "1.2.0",
            "_view_count": null,
            "flex_flow": null,
            "width": null,
            "min_width": null,
            "border": null,
            "align_items": null,
            "bottom": null,
            "_model_module": "@jupyter-widgets/base",
            "top": null,
            "grid_column": null,
            "overflow_y": null,
            "overflow_x": null,
            "grid_auto_flow": null,
            "grid_area": null,
            "grid_template_columns": null,
            "flex": null,
            "_model_name": "LayoutModel",
            "justify_items": null,
            "grid_row": null,
            "max_height": null,
            "align_content": null,
            "visibility": null,
            "align_self": null,
            "height": null,
            "min_height": null,
            "padding": null,
            "grid_auto_rows": null,
            "grid_gap": null,
            "max_width": null,
            "order": null,
            "_view_module_version": "1.2.0",
            "grid_template_areas": null,
            "object_position": null,
            "object_fit": null,
            "grid_auto_columns": null,
            "margin": null,
            "display": null,
            "left": null
          }
        },
        "32385e03faeb4028b5e11d32a2d231bd": {
          "model_module": "@jupyter-widgets/controls",
          "model_name": "HTMLModel",
          "model_module_version": "1.5.0",
          "state": {
            "_view_name": "HTMLView",
            "style": "IPY_MODEL_81edbc6d7a444a4dbaf74164ea80b201",
            "_dom_classes": [],
            "description": "",
            "_model_name": "HTMLModel",
            "placeholder": "​",
            "_view_module": "@jupyter-widgets/controls",
            "_model_module_version": "1.5.0",
            "value": "100%",
            "_view_count": null,
            "_view_module_version": "1.5.0",
            "description_tooltip": null,
            "_model_module": "@jupyter-widgets/controls",
            "layout": "IPY_MODEL_1728b6cce59543cdb7cbf217d6632dcd"
          }
        },
        "52144c024c7343b6810967e321a575a1": {
          "model_module": "@jupyter-widgets/controls",
          "model_name": "FloatProgressModel",
          "model_module_version": "1.5.0",
          "state": {
            "_view_name": "ProgressView",
            "style": "IPY_MODEL_ae5bdbc7a1894057b30eeb059bd742ca",
            "_dom_classes": [],
            "description": "",
            "_model_name": "FloatProgressModel",
            "bar_style": "success",
            "max": 4,
            "_view_module": "@jupyter-widgets/controls",
            "_model_module_version": "1.5.0",
            "value": 4,
            "_view_count": null,
            "_view_module_version": "1.5.0",
            "orientation": "horizontal",
            "min": 0,
            "description_tooltip": null,
            "_model_module": "@jupyter-widgets/controls",
            "layout": "IPY_MODEL_36f3bc708c0542a5bbd2398446a8bc12"
          }
        },
        "7e1d5bc1b864457eb4c158e7b0045a9d": {
          "model_module": "@jupyter-widgets/controls",
          "model_name": "HTMLModel",
          "model_module_version": "1.5.0",
          "state": {
            "_view_name": "HTMLView",
            "style": "IPY_MODEL_66fb6f7f31774f338c063aa1a1a71e51",
            "_dom_classes": [],
            "description": "",
            "_model_name": "HTMLModel",
            "placeholder": "​",
            "_view_module": "@jupyter-widgets/controls",
            "_model_module_version": "1.5.0",
            "value": " 4/4 [02:46&lt;00:00, 44.55s/it]",
            "_view_count": null,
            "_view_module_version": "1.5.0",
            "description_tooltip": null,
            "_model_module": "@jupyter-widgets/controls",
            "layout": "IPY_MODEL_b5795e95dc28429abf8c7584c8acad33"
          }
        },
        "81edbc6d7a444a4dbaf74164ea80b201": {
          "model_module": "@jupyter-widgets/controls",
          "model_name": "DescriptionStyleModel",
          "model_module_version": "1.5.0",
          "state": {
            "_view_name": "StyleView",
            "_model_name": "DescriptionStyleModel",
            "description_width": "",
            "_view_module": "@jupyter-widgets/base",
            "_model_module_version": "1.5.0",
            "_view_count": null,
            "_view_module_version": "1.2.0",
            "_model_module": "@jupyter-widgets/controls"
          }
        },
        "1728b6cce59543cdb7cbf217d6632dcd": {
          "model_module": "@jupyter-widgets/base",
          "model_name": "LayoutModel",
          "model_module_version": "1.2.0",
          "state": {
            "_view_name": "LayoutView",
            "grid_template_rows": null,
            "right": null,
            "justify_content": null,
            "_view_module": "@jupyter-widgets/base",
            "overflow": null,
            "_model_module_version": "1.2.0",
            "_view_count": null,
            "flex_flow": null,
            "width": null,
            "min_width": null,
            "border": null,
            "align_items": null,
            "bottom": null,
            "_model_module": "@jupyter-widgets/base",
            "top": null,
            "grid_column": null,
            "overflow_y": null,
            "overflow_x": null,
            "grid_auto_flow": null,
            "grid_area": null,
            "grid_template_columns": null,
            "flex": null,
            "_model_name": "LayoutModel",
            "justify_items": null,
            "grid_row": null,
            "max_height": null,
            "align_content": null,
            "visibility": null,
            "align_self": null,
            "height": null,
            "min_height": null,
            "padding": null,
            "grid_auto_rows": null,
            "grid_gap": null,
            "max_width": null,
            "order": null,
            "_view_module_version": "1.2.0",
            "grid_template_areas": null,
            "object_position": null,
            "object_fit": null,
            "grid_auto_columns": null,
            "margin": null,
            "display": null,
            "left": null
          }
        },
        "ae5bdbc7a1894057b30eeb059bd742ca": {
          "model_module": "@jupyter-widgets/controls",
          "model_name": "ProgressStyleModel",
          "model_module_version": "1.5.0",
          "state": {
            "_view_name": "StyleView",
            "_model_name": "ProgressStyleModel",
            "description_width": "",
            "_view_module": "@jupyter-widgets/base",
            "_model_module_version": "1.5.0",
            "_view_count": null,
            "_view_module_version": "1.2.0",
            "bar_color": null,
            "_model_module": "@jupyter-widgets/controls"
          }
        },
        "36f3bc708c0542a5bbd2398446a8bc12": {
          "model_module": "@jupyter-widgets/base",
          "model_name": "LayoutModel",
          "model_module_version": "1.2.0",
          "state": {
            "_view_name": "LayoutView",
            "grid_template_rows": null,
            "right": null,
            "justify_content": null,
            "_view_module": "@jupyter-widgets/base",
            "overflow": null,
            "_model_module_version": "1.2.0",
            "_view_count": null,
            "flex_flow": null,
            "width": null,
            "min_width": null,
            "border": null,
            "align_items": null,
            "bottom": null,
            "_model_module": "@jupyter-widgets/base",
            "top": null,
            "grid_column": null,
            "overflow_y": null,
            "overflow_x": null,
            "grid_auto_flow": null,
            "grid_area": null,
            "grid_template_columns": null,
            "flex": null,
            "_model_name": "LayoutModel",
            "justify_items": null,
            "grid_row": null,
            "max_height": null,
            "align_content": null,
            "visibility": null,
            "align_self": null,
            "height": null,
            "min_height": null,
            "padding": null,
            "grid_auto_rows": null,
            "grid_gap": null,
            "max_width": null,
            "order": null,
            "_view_module_version": "1.2.0",
            "grid_template_areas": null,
            "object_position": null,
            "object_fit": null,
            "grid_auto_columns": null,
            "margin": null,
            "display": null,
            "left": null
          }
        },
        "66fb6f7f31774f338c063aa1a1a71e51": {
          "model_module": "@jupyter-widgets/controls",
          "model_name": "DescriptionStyleModel",
          "model_module_version": "1.5.0",
          "state": {
            "_view_name": "StyleView",
            "_model_name": "DescriptionStyleModel",
            "description_width": "",
            "_view_module": "@jupyter-widgets/base",
            "_model_module_version": "1.5.0",
            "_view_count": null,
            "_view_module_version": "1.2.0",
            "_model_module": "@jupyter-widgets/controls"
          }
        },
        "b5795e95dc28429abf8c7584c8acad33": {
          "model_module": "@jupyter-widgets/base",
          "model_name": "LayoutModel",
          "model_module_version": "1.2.0",
          "state": {
            "_view_name": "LayoutView",
            "grid_template_rows": null,
            "right": null,
            "justify_content": null,
            "_view_module": "@jupyter-widgets/base",
            "overflow": null,
            "_model_module_version": "1.2.0",
            "_view_count": null,
            "flex_flow": null,
            "width": null,
            "min_width": null,
            "border": null,
            "align_items": null,
            "bottom": null,
            "_model_module": "@jupyter-widgets/base",
            "top": null,
            "grid_column": null,
            "overflow_y": null,
            "overflow_x": null,
            "grid_auto_flow": null,
            "grid_area": null,
            "grid_template_columns": null,
            "flex": null,
            "_model_name": "LayoutModel",
            "justify_items": null,
            "grid_row": null,
            "max_height": null,
            "align_content": null,
            "visibility": null,
            "align_self": null,
            "height": null,
            "min_height": null,
            "padding": null,
            "grid_auto_rows": null,
            "grid_gap": null,
            "max_width": null,
            "order": null,
            "_view_module_version": "1.2.0",
            "grid_template_areas": null,
            "object_position": null,
            "object_fit": null,
            "grid_auto_columns": null,
            "margin": null,
            "display": null,
            "left": null
          }
        },
        "c4db05bcb3c64cd1aecce9497cd19a8e": {
          "model_module": "@jupyter-widgets/controls",
          "model_name": "HBoxModel",
          "model_module_version": "1.5.0",
          "state": {
            "_view_name": "HBoxView",
            "_dom_classes": [],
            "_model_name": "HBoxModel",
            "_view_module": "@jupyter-widgets/controls",
            "_model_module_version": "1.5.0",
            "_view_count": null,
            "_view_module_version": "1.5.0",
            "box_style": "",
            "layout": "IPY_MODEL_cd830c3562f1476aae7a3d6679c86792",
            "_model_module": "@jupyter-widgets/controls",
            "children": [
              "IPY_MODEL_e017f32bcb3e46cbb95bb23504d58c87",
              "IPY_MODEL_559d85dfa0624b3196c7706121f499fd",
              "IPY_MODEL_9942435f0a014b49886a74ad3eeae561"
            ]
          }
        },
        "cd830c3562f1476aae7a3d6679c86792": {
          "model_module": "@jupyter-widgets/base",
          "model_name": "LayoutModel",
          "model_module_version": "1.2.0",
          "state": {
            "_view_name": "LayoutView",
            "grid_template_rows": null,
            "right": null,
            "justify_content": null,
            "_view_module": "@jupyter-widgets/base",
            "overflow": null,
            "_model_module_version": "1.2.0",
            "_view_count": null,
            "flex_flow": null,
            "width": null,
            "min_width": null,
            "border": null,
            "align_items": null,
            "bottom": null,
            "_model_module": "@jupyter-widgets/base",
            "top": null,
            "grid_column": null,
            "overflow_y": null,
            "overflow_x": null,
            "grid_auto_flow": null,
            "grid_area": null,
            "grid_template_columns": null,
            "flex": null,
            "_model_name": "LayoutModel",
            "justify_items": null,
            "grid_row": null,
            "max_height": null,
            "align_content": null,
            "visibility": null,
            "align_self": null,
            "height": null,
            "min_height": null,
            "padding": null,
            "grid_auto_rows": null,
            "grid_gap": null,
            "max_width": null,
            "order": null,
            "_view_module_version": "1.2.0",
            "grid_template_areas": null,
            "object_position": null,
            "object_fit": null,
            "grid_auto_columns": null,
            "margin": null,
            "display": null,
            "left": null
          }
        },
        "e017f32bcb3e46cbb95bb23504d58c87": {
          "model_module": "@jupyter-widgets/controls",
          "model_name": "HTMLModel",
          "model_module_version": "1.5.0",
          "state": {
            "_view_name": "HTMLView",
            "style": "IPY_MODEL_8d49018902b04b93a1c2a8bb1a36932e",
            "_dom_classes": [],
            "description": "",
            "_model_name": "HTMLModel",
            "placeholder": "​",
            "_view_module": "@jupyter-widgets/controls",
            "_model_module_version": "1.5.0",
            "value": "100%",
            "_view_count": null,
            "_view_module_version": "1.5.0",
            "description_tooltip": null,
            "_model_module": "@jupyter-widgets/controls",
            "layout": "IPY_MODEL_0fc8879472b6476bbc64c11cf4a6fb89"
          }
        },
        "559d85dfa0624b3196c7706121f499fd": {
          "model_module": "@jupyter-widgets/controls",
          "model_name": "FloatProgressModel",
          "model_module_version": "1.5.0",
          "state": {
            "_view_name": "ProgressView",
            "style": "IPY_MODEL_1dee13b41ede41c894af972b498ec330",
            "_dom_classes": [],
            "description": "",
            "_model_name": "FloatProgressModel",
            "bar_style": "success",
            "max": 4,
            "_view_module": "@jupyter-widgets/controls",
            "_model_module_version": "1.5.0",
            "value": 4,
            "_view_count": null,
            "_view_module_version": "1.5.0",
            "orientation": "horizontal",
            "min": 0,
            "description_tooltip": null,
            "_model_module": "@jupyter-widgets/controls",
            "layout": "IPY_MODEL_3fc7fd393d3641ddb8f7e2120987da31"
          }
        },
        "9942435f0a014b49886a74ad3eeae561": {
          "model_module": "@jupyter-widgets/controls",
          "model_name": "HTMLModel",
          "model_module_version": "1.5.0",
          "state": {
            "_view_name": "HTMLView",
            "style": "IPY_MODEL_fb976a58f8554ef3be4804aba5351ae1",
            "_dom_classes": [],
            "description": "",
            "_model_name": "HTMLModel",
            "placeholder": "​",
            "_view_module": "@jupyter-widgets/controls",
            "_model_module_version": "1.5.0",
            "value": " 4/4 [43:44&lt;00:00, 857.55s/it]",
            "_view_count": null,
            "_view_module_version": "1.5.0",
            "description_tooltip": null,
            "_model_module": "@jupyter-widgets/controls",
            "layout": "IPY_MODEL_7e15606c78874f59b36fb63e85c4c727"
          }
        },
        "8d49018902b04b93a1c2a8bb1a36932e": {
          "model_module": "@jupyter-widgets/controls",
          "model_name": "DescriptionStyleModel",
          "model_module_version": "1.5.0",
          "state": {
            "_view_name": "StyleView",
            "_model_name": "DescriptionStyleModel",
            "description_width": "",
            "_view_module": "@jupyter-widgets/base",
            "_model_module_version": "1.5.0",
            "_view_count": null,
            "_view_module_version": "1.2.0",
            "_model_module": "@jupyter-widgets/controls"
          }
        },
        "0fc8879472b6476bbc64c11cf4a6fb89": {
          "model_module": "@jupyter-widgets/base",
          "model_name": "LayoutModel",
          "model_module_version": "1.2.0",
          "state": {
            "_view_name": "LayoutView",
            "grid_template_rows": null,
            "right": null,
            "justify_content": null,
            "_view_module": "@jupyter-widgets/base",
            "overflow": null,
            "_model_module_version": "1.2.0",
            "_view_count": null,
            "flex_flow": null,
            "width": null,
            "min_width": null,
            "border": null,
            "align_items": null,
            "bottom": null,
            "_model_module": "@jupyter-widgets/base",
            "top": null,
            "grid_column": null,
            "overflow_y": null,
            "overflow_x": null,
            "grid_auto_flow": null,
            "grid_area": null,
            "grid_template_columns": null,
            "flex": null,
            "_model_name": "LayoutModel",
            "justify_items": null,
            "grid_row": null,
            "max_height": null,
            "align_content": null,
            "visibility": null,
            "align_self": null,
            "height": null,
            "min_height": null,
            "padding": null,
            "grid_auto_rows": null,
            "grid_gap": null,
            "max_width": null,
            "order": null,
            "_view_module_version": "1.2.0",
            "grid_template_areas": null,
            "object_position": null,
            "object_fit": null,
            "grid_auto_columns": null,
            "margin": null,
            "display": null,
            "left": null
          }
        },
        "1dee13b41ede41c894af972b498ec330": {
          "model_module": "@jupyter-widgets/controls",
          "model_name": "ProgressStyleModel",
          "model_module_version": "1.5.0",
          "state": {
            "_view_name": "StyleView",
            "_model_name": "ProgressStyleModel",
            "description_width": "",
            "_view_module": "@jupyter-widgets/base",
            "_model_module_version": "1.5.0",
            "_view_count": null,
            "_view_module_version": "1.2.0",
            "bar_color": null,
            "_model_module": "@jupyter-widgets/controls"
          }
        },
        "3fc7fd393d3641ddb8f7e2120987da31": {
          "model_module": "@jupyter-widgets/base",
          "model_name": "LayoutModel",
          "model_module_version": "1.2.0",
          "state": {
            "_view_name": "LayoutView",
            "grid_template_rows": null,
            "right": null,
            "justify_content": null,
            "_view_module": "@jupyter-widgets/base",
            "overflow": null,
            "_model_module_version": "1.2.0",
            "_view_count": null,
            "flex_flow": null,
            "width": null,
            "min_width": null,
            "border": null,
            "align_items": null,
            "bottom": null,
            "_model_module": "@jupyter-widgets/base",
            "top": null,
            "grid_column": null,
            "overflow_y": null,
            "overflow_x": null,
            "grid_auto_flow": null,
            "grid_area": null,
            "grid_template_columns": null,
            "flex": null,
            "_model_name": "LayoutModel",
            "justify_items": null,
            "grid_row": null,
            "max_height": null,
            "align_content": null,
            "visibility": null,
            "align_self": null,
            "height": null,
            "min_height": null,
            "padding": null,
            "grid_auto_rows": null,
            "grid_gap": null,
            "max_width": null,
            "order": null,
            "_view_module_version": "1.2.0",
            "grid_template_areas": null,
            "object_position": null,
            "object_fit": null,
            "grid_auto_columns": null,
            "margin": null,
            "display": null,
            "left": null
          }
        },
        "fb976a58f8554ef3be4804aba5351ae1": {
          "model_module": "@jupyter-widgets/controls",
          "model_name": "DescriptionStyleModel",
          "model_module_version": "1.5.0",
          "state": {
            "_view_name": "StyleView",
            "_model_name": "DescriptionStyleModel",
            "description_width": "",
            "_view_module": "@jupyter-widgets/base",
            "_model_module_version": "1.5.0",
            "_view_count": null,
            "_view_module_version": "1.2.0",
            "_model_module": "@jupyter-widgets/controls"
          }
        },
        "7e15606c78874f59b36fb63e85c4c727": {
          "model_module": "@jupyter-widgets/base",
          "model_name": "LayoutModel",
          "model_module_version": "1.2.0",
          "state": {
            "_view_name": "LayoutView",
            "grid_template_rows": null,
            "right": null,
            "justify_content": null,
            "_view_module": "@jupyter-widgets/base",
            "overflow": null,
            "_model_module_version": "1.2.0",
            "_view_count": null,
            "flex_flow": null,
            "width": null,
            "min_width": null,
            "border": null,
            "align_items": null,
            "bottom": null,
            "_model_module": "@jupyter-widgets/base",
            "top": null,
            "grid_column": null,
            "overflow_y": null,
            "overflow_x": null,
            "grid_auto_flow": null,
            "grid_area": null,
            "grid_template_columns": null,
            "flex": null,
            "_model_name": "LayoutModel",
            "justify_items": null,
            "grid_row": null,
            "max_height": null,
            "align_content": null,
            "visibility": null,
            "align_self": null,
            "height": null,
            "min_height": null,
            "padding": null,
            "grid_auto_rows": null,
            "grid_gap": null,
            "max_width": null,
            "order": null,
            "_view_module_version": "1.2.0",
            "grid_template_areas": null,
            "object_position": null,
            "object_fit": null,
            "grid_auto_columns": null,
            "margin": null,
            "display": null,
            "left": null
          }
        },
        "ce44efbec27849dd8222472649585a50": {
          "model_module": "@jupyter-widgets/controls",
          "model_name": "HBoxModel",
          "model_module_version": "1.5.0",
          "state": {
            "_view_name": "HBoxView",
            "_dom_classes": [],
            "_model_name": "HBoxModel",
            "_view_module": "@jupyter-widgets/controls",
            "_model_module_version": "1.5.0",
            "_view_count": null,
            "_view_module_version": "1.5.0",
            "box_style": "",
            "layout": "IPY_MODEL_d88eec527ad44ab9a5f8f3f663eda132",
            "_model_module": "@jupyter-widgets/controls",
            "children": [
              "IPY_MODEL_ac07d5260e4f44f7b9e7e2d52eb665d3",
              "IPY_MODEL_0e6cdc548dec4ce4928128bb1dbb69b1",
              "IPY_MODEL_b698a910df3f425eaea7442c2db1068a"
            ]
          }
        },
        "d88eec527ad44ab9a5f8f3f663eda132": {
          "model_module": "@jupyter-widgets/base",
          "model_name": "LayoutModel",
          "model_module_version": "1.2.0",
          "state": {
            "_view_name": "LayoutView",
            "grid_template_rows": null,
            "right": null,
            "justify_content": null,
            "_view_module": "@jupyter-widgets/base",
            "overflow": null,
            "_model_module_version": "1.2.0",
            "_view_count": null,
            "flex_flow": null,
            "width": null,
            "min_width": null,
            "border": null,
            "align_items": null,
            "bottom": null,
            "_model_module": "@jupyter-widgets/base",
            "top": null,
            "grid_column": null,
            "overflow_y": null,
            "overflow_x": null,
            "grid_auto_flow": null,
            "grid_area": null,
            "grid_template_columns": null,
            "flex": null,
            "_model_name": "LayoutModel",
            "justify_items": null,
            "grid_row": null,
            "max_height": null,
            "align_content": null,
            "visibility": null,
            "align_self": null,
            "height": null,
            "min_height": null,
            "padding": null,
            "grid_auto_rows": null,
            "grid_gap": null,
            "max_width": null,
            "order": null,
            "_view_module_version": "1.2.0",
            "grid_template_areas": null,
            "object_position": null,
            "object_fit": null,
            "grid_auto_columns": null,
            "margin": null,
            "display": null,
            "left": null
          }
        },
        "ac07d5260e4f44f7b9e7e2d52eb665d3": {
          "model_module": "@jupyter-widgets/controls",
          "model_name": "HTMLModel",
          "model_module_version": "1.5.0",
          "state": {
            "_view_name": "HTMLView",
            "style": "IPY_MODEL_03d1227a28834f45a82da7d29ac71644",
            "_dom_classes": [],
            "description": "",
            "_model_name": "HTMLModel",
            "placeholder": "​",
            "_view_module": "@jupyter-widgets/controls",
            "_model_module_version": "1.5.0",
            "value": "100%",
            "_view_count": null,
            "_view_module_version": "1.5.0",
            "description_tooltip": null,
            "_model_module": "@jupyter-widgets/controls",
            "layout": "IPY_MODEL_59de3b40ffac4168ae2345188c1af106"
          }
        },
        "0e6cdc548dec4ce4928128bb1dbb69b1": {
          "model_module": "@jupyter-widgets/controls",
          "model_name": "FloatProgressModel",
          "model_module_version": "1.5.0",
          "state": {
            "_view_name": "ProgressView",
            "style": "IPY_MODEL_82e33b719c5d48b6abfb5c9f13afd226",
            "_dom_classes": [],
            "description": "",
            "_model_name": "FloatProgressModel",
            "bar_style": "success",
            "max": 4,
            "_view_module": "@jupyter-widgets/controls",
            "_model_module_version": "1.5.0",
            "value": 4,
            "_view_count": null,
            "_view_module_version": "1.5.0",
            "orientation": "horizontal",
            "min": 0,
            "description_tooltip": null,
            "_model_module": "@jupyter-widgets/controls",
            "layout": "IPY_MODEL_c60f27bcc5a44d9dac84be007605631f"
          }
        },
        "b698a910df3f425eaea7442c2db1068a": {
          "model_module": "@jupyter-widgets/controls",
          "model_name": "HTMLModel",
          "model_module_version": "1.5.0",
          "state": {
            "_view_name": "HTMLView",
            "style": "IPY_MODEL_2513e8d25b374c6cb04c46bcabdd2c93",
            "_dom_classes": [],
            "description": "",
            "_model_name": "HTMLModel",
            "placeholder": "​",
            "_view_module": "@jupyter-widgets/controls",
            "_model_module_version": "1.5.0",
            "value": " 4/4 [02:24&lt;00:00, 35.59s/it]",
            "_view_count": null,
            "_view_module_version": "1.5.0",
            "description_tooltip": null,
            "_model_module": "@jupyter-widgets/controls",
            "layout": "IPY_MODEL_03207e8a926343bd91b24daa7db703f3"
          }
        },
        "03d1227a28834f45a82da7d29ac71644": {
          "model_module": "@jupyter-widgets/controls",
          "model_name": "DescriptionStyleModel",
          "model_module_version": "1.5.0",
          "state": {
            "_view_name": "StyleView",
            "_model_name": "DescriptionStyleModel",
            "description_width": "",
            "_view_module": "@jupyter-widgets/base",
            "_model_module_version": "1.5.0",
            "_view_count": null,
            "_view_module_version": "1.2.0",
            "_model_module": "@jupyter-widgets/controls"
          }
        },
        "59de3b40ffac4168ae2345188c1af106": {
          "model_module": "@jupyter-widgets/base",
          "model_name": "LayoutModel",
          "model_module_version": "1.2.0",
          "state": {
            "_view_name": "LayoutView",
            "grid_template_rows": null,
            "right": null,
            "justify_content": null,
            "_view_module": "@jupyter-widgets/base",
            "overflow": null,
            "_model_module_version": "1.2.0",
            "_view_count": null,
            "flex_flow": null,
            "width": null,
            "min_width": null,
            "border": null,
            "align_items": null,
            "bottom": null,
            "_model_module": "@jupyter-widgets/base",
            "top": null,
            "grid_column": null,
            "overflow_y": null,
            "overflow_x": null,
            "grid_auto_flow": null,
            "grid_area": null,
            "grid_template_columns": null,
            "flex": null,
            "_model_name": "LayoutModel",
            "justify_items": null,
            "grid_row": null,
            "max_height": null,
            "align_content": null,
            "visibility": null,
            "align_self": null,
            "height": null,
            "min_height": null,
            "padding": null,
            "grid_auto_rows": null,
            "grid_gap": null,
            "max_width": null,
            "order": null,
            "_view_module_version": "1.2.0",
            "grid_template_areas": null,
            "object_position": null,
            "object_fit": null,
            "grid_auto_columns": null,
            "margin": null,
            "display": null,
            "left": null
          }
        },
        "82e33b719c5d48b6abfb5c9f13afd226": {
          "model_module": "@jupyter-widgets/controls",
          "model_name": "ProgressStyleModel",
          "model_module_version": "1.5.0",
          "state": {
            "_view_name": "StyleView",
            "_model_name": "ProgressStyleModel",
            "description_width": "",
            "_view_module": "@jupyter-widgets/base",
            "_model_module_version": "1.5.0",
            "_view_count": null,
            "_view_module_version": "1.2.0",
            "bar_color": null,
            "_model_module": "@jupyter-widgets/controls"
          }
        },
        "c60f27bcc5a44d9dac84be007605631f": {
          "model_module": "@jupyter-widgets/base",
          "model_name": "LayoutModel",
          "model_module_version": "1.2.0",
          "state": {
            "_view_name": "LayoutView",
            "grid_template_rows": null,
            "right": null,
            "justify_content": null,
            "_view_module": "@jupyter-widgets/base",
            "overflow": null,
            "_model_module_version": "1.2.0",
            "_view_count": null,
            "flex_flow": null,
            "width": null,
            "min_width": null,
            "border": null,
            "align_items": null,
            "bottom": null,
            "_model_module": "@jupyter-widgets/base",
            "top": null,
            "grid_column": null,
            "overflow_y": null,
            "overflow_x": null,
            "grid_auto_flow": null,
            "grid_area": null,
            "grid_template_columns": null,
            "flex": null,
            "_model_name": "LayoutModel",
            "justify_items": null,
            "grid_row": null,
            "max_height": null,
            "align_content": null,
            "visibility": null,
            "align_self": null,
            "height": null,
            "min_height": null,
            "padding": null,
            "grid_auto_rows": null,
            "grid_gap": null,
            "max_width": null,
            "order": null,
            "_view_module_version": "1.2.0",
            "grid_template_areas": null,
            "object_position": null,
            "object_fit": null,
            "grid_auto_columns": null,
            "margin": null,
            "display": null,
            "left": null
          }
        },
        "2513e8d25b374c6cb04c46bcabdd2c93": {
          "model_module": "@jupyter-widgets/controls",
          "model_name": "DescriptionStyleModel",
          "model_module_version": "1.5.0",
          "state": {
            "_view_name": "StyleView",
            "_model_name": "DescriptionStyleModel",
            "description_width": "",
            "_view_module": "@jupyter-widgets/base",
            "_model_module_version": "1.5.0",
            "_view_count": null,
            "_view_module_version": "1.2.0",
            "_model_module": "@jupyter-widgets/controls"
          }
        },
        "03207e8a926343bd91b24daa7db703f3": {
          "model_module": "@jupyter-widgets/base",
          "model_name": "LayoutModel",
          "model_module_version": "1.2.0",
          "state": {
            "_view_name": "LayoutView",
            "grid_template_rows": null,
            "right": null,
            "justify_content": null,
            "_view_module": "@jupyter-widgets/base",
            "overflow": null,
            "_model_module_version": "1.2.0",
            "_view_count": null,
            "flex_flow": null,
            "width": null,
            "min_width": null,
            "border": null,
            "align_items": null,
            "bottom": null,
            "_model_module": "@jupyter-widgets/base",
            "top": null,
            "grid_column": null,
            "overflow_y": null,
            "overflow_x": null,
            "grid_auto_flow": null,
            "grid_area": null,
            "grid_template_columns": null,
            "flex": null,
            "_model_name": "LayoutModel",
            "justify_items": null,
            "grid_row": null,
            "max_height": null,
            "align_content": null,
            "visibility": null,
            "align_self": null,
            "height": null,
            "min_height": null,
            "padding": null,
            "grid_auto_rows": null,
            "grid_gap": null,
            "max_width": null,
            "order": null,
            "_view_module_version": "1.2.0",
            "grid_template_areas": null,
            "object_position": null,
            "object_fit": null,
            "grid_auto_columns": null,
            "margin": null,
            "display": null,
            "left": null
          }
        },
        "264bb78fa1e64deabd03e1dae2a4aa0a": {
          "model_module": "@jupyter-widgets/controls",
          "model_name": "HBoxModel",
          "model_module_version": "1.5.0",
          "state": {
            "_view_name": "HBoxView",
            "_dom_classes": [],
            "_model_name": "HBoxModel",
            "_view_module": "@jupyter-widgets/controls",
            "_model_module_version": "1.5.0",
            "_view_count": null,
            "_view_module_version": "1.5.0",
            "box_style": "",
            "layout": "IPY_MODEL_4bacf864c52c4ae39d3fd5e7b2a41917",
            "_model_module": "@jupyter-widgets/controls",
            "children": [
              "IPY_MODEL_da30726f3cee4efe9398f5b9686e988f",
              "IPY_MODEL_173778ef8c7b4c14b98e46df840069f4",
              "IPY_MODEL_f196f8604a8b4ca1977d8dbad5902841"
            ]
          }
        },
        "4bacf864c52c4ae39d3fd5e7b2a41917": {
          "model_module": "@jupyter-widgets/base",
          "model_name": "LayoutModel",
          "model_module_version": "1.2.0",
          "state": {
            "_view_name": "LayoutView",
            "grid_template_rows": null,
            "right": null,
            "justify_content": null,
            "_view_module": "@jupyter-widgets/base",
            "overflow": null,
            "_model_module_version": "1.2.0",
            "_view_count": null,
            "flex_flow": null,
            "width": null,
            "min_width": null,
            "border": null,
            "align_items": null,
            "bottom": null,
            "_model_module": "@jupyter-widgets/base",
            "top": null,
            "grid_column": null,
            "overflow_y": null,
            "overflow_x": null,
            "grid_auto_flow": null,
            "grid_area": null,
            "grid_template_columns": null,
            "flex": null,
            "_model_name": "LayoutModel",
            "justify_items": null,
            "grid_row": null,
            "max_height": null,
            "align_content": null,
            "visibility": null,
            "align_self": null,
            "height": null,
            "min_height": null,
            "padding": null,
            "grid_auto_rows": null,
            "grid_gap": null,
            "max_width": null,
            "order": null,
            "_view_module_version": "1.2.0",
            "grid_template_areas": null,
            "object_position": null,
            "object_fit": null,
            "grid_auto_columns": null,
            "margin": null,
            "display": null,
            "left": null
          }
        },
        "da30726f3cee4efe9398f5b9686e988f": {
          "model_module": "@jupyter-widgets/controls",
          "model_name": "HTMLModel",
          "model_module_version": "1.5.0",
          "state": {
            "_view_name": "HTMLView",
            "style": "IPY_MODEL_fcc97e1aabf84ad6bc3665b1e1324ddc",
            "_dom_classes": [],
            "description": "",
            "_model_name": "HTMLModel",
            "placeholder": "​",
            "_view_module": "@jupyter-widgets/controls",
            "_model_module_version": "1.5.0",
            "value": "100%",
            "_view_count": null,
            "_view_module_version": "1.5.0",
            "description_tooltip": null,
            "_model_module": "@jupyter-widgets/controls",
            "layout": "IPY_MODEL_fa3cf07e51cc44aa8a5b5c16548c3c4c"
          }
        },
        "173778ef8c7b4c14b98e46df840069f4": {
          "model_module": "@jupyter-widgets/controls",
          "model_name": "FloatProgressModel",
          "model_module_version": "1.5.0",
          "state": {
            "_view_name": "ProgressView",
            "style": "IPY_MODEL_f0e57398c4eb42a6996a6085b56a86c5",
            "_dom_classes": [],
            "description": "",
            "_model_name": "FloatProgressModel",
            "bar_style": "success",
            "max": 4,
            "_view_module": "@jupyter-widgets/controls",
            "_model_module_version": "1.5.0",
            "value": 4,
            "_view_count": null,
            "_view_module_version": "1.5.0",
            "orientation": "horizontal",
            "min": 0,
            "description_tooltip": null,
            "_model_module": "@jupyter-widgets/controls",
            "layout": "IPY_MODEL_623ed12640e54ecc9f443cbed87ccf06"
          }
        },
        "f196f8604a8b4ca1977d8dbad5902841": {
          "model_module": "@jupyter-widgets/controls",
          "model_name": "HTMLModel",
          "model_module_version": "1.5.0",
          "state": {
            "_view_name": "HTMLView",
            "style": "IPY_MODEL_f6e3f8cdf2f24ad9af893ee3d1231230",
            "_dom_classes": [],
            "description": "",
            "_model_name": "HTMLModel",
            "placeholder": "​",
            "_view_module": "@jupyter-widgets/controls",
            "_model_module_version": "1.5.0",
            "value": " 4/4 [02:43&lt;00:00, 43.89s/it]",
            "_view_count": null,
            "_view_module_version": "1.5.0",
            "description_tooltip": null,
            "_model_module": "@jupyter-widgets/controls",
            "layout": "IPY_MODEL_1229b5ff87224c57b6031ad897690c4b"
          }
        },
        "fcc97e1aabf84ad6bc3665b1e1324ddc": {
          "model_module": "@jupyter-widgets/controls",
          "model_name": "DescriptionStyleModel",
          "model_module_version": "1.5.0",
          "state": {
            "_view_name": "StyleView",
            "_model_name": "DescriptionStyleModel",
            "description_width": "",
            "_view_module": "@jupyter-widgets/base",
            "_model_module_version": "1.5.0",
            "_view_count": null,
            "_view_module_version": "1.2.0",
            "_model_module": "@jupyter-widgets/controls"
          }
        },
        "fa3cf07e51cc44aa8a5b5c16548c3c4c": {
          "model_module": "@jupyter-widgets/base",
          "model_name": "LayoutModel",
          "model_module_version": "1.2.0",
          "state": {
            "_view_name": "LayoutView",
            "grid_template_rows": null,
            "right": null,
            "justify_content": null,
            "_view_module": "@jupyter-widgets/base",
            "overflow": null,
            "_model_module_version": "1.2.0",
            "_view_count": null,
            "flex_flow": null,
            "width": null,
            "min_width": null,
            "border": null,
            "align_items": null,
            "bottom": null,
            "_model_module": "@jupyter-widgets/base",
            "top": null,
            "grid_column": null,
            "overflow_y": null,
            "overflow_x": null,
            "grid_auto_flow": null,
            "grid_area": null,
            "grid_template_columns": null,
            "flex": null,
            "_model_name": "LayoutModel",
            "justify_items": null,
            "grid_row": null,
            "max_height": null,
            "align_content": null,
            "visibility": null,
            "align_self": null,
            "height": null,
            "min_height": null,
            "padding": null,
            "grid_auto_rows": null,
            "grid_gap": null,
            "max_width": null,
            "order": null,
            "_view_module_version": "1.2.0",
            "grid_template_areas": null,
            "object_position": null,
            "object_fit": null,
            "grid_auto_columns": null,
            "margin": null,
            "display": null,
            "left": null
          }
        },
        "f0e57398c4eb42a6996a6085b56a86c5": {
          "model_module": "@jupyter-widgets/controls",
          "model_name": "ProgressStyleModel",
          "model_module_version": "1.5.0",
          "state": {
            "_view_name": "StyleView",
            "_model_name": "ProgressStyleModel",
            "description_width": "",
            "_view_module": "@jupyter-widgets/base",
            "_model_module_version": "1.5.0",
            "_view_count": null,
            "_view_module_version": "1.2.0",
            "bar_color": null,
            "_model_module": "@jupyter-widgets/controls"
          }
        },
        "623ed12640e54ecc9f443cbed87ccf06": {
          "model_module": "@jupyter-widgets/base",
          "model_name": "LayoutModel",
          "model_module_version": "1.2.0",
          "state": {
            "_view_name": "LayoutView",
            "grid_template_rows": null,
            "right": null,
            "justify_content": null,
            "_view_module": "@jupyter-widgets/base",
            "overflow": null,
            "_model_module_version": "1.2.0",
            "_view_count": null,
            "flex_flow": null,
            "width": null,
            "min_width": null,
            "border": null,
            "align_items": null,
            "bottom": null,
            "_model_module": "@jupyter-widgets/base",
            "top": null,
            "grid_column": null,
            "overflow_y": null,
            "overflow_x": null,
            "grid_auto_flow": null,
            "grid_area": null,
            "grid_template_columns": null,
            "flex": null,
            "_model_name": "LayoutModel",
            "justify_items": null,
            "grid_row": null,
            "max_height": null,
            "align_content": null,
            "visibility": null,
            "align_self": null,
            "height": null,
            "min_height": null,
            "padding": null,
            "grid_auto_rows": null,
            "grid_gap": null,
            "max_width": null,
            "order": null,
            "_view_module_version": "1.2.0",
            "grid_template_areas": null,
            "object_position": null,
            "object_fit": null,
            "grid_auto_columns": null,
            "margin": null,
            "display": null,
            "left": null
          }
        },
        "f6e3f8cdf2f24ad9af893ee3d1231230": {
          "model_module": "@jupyter-widgets/controls",
          "model_name": "DescriptionStyleModel",
          "model_module_version": "1.5.0",
          "state": {
            "_view_name": "StyleView",
            "_model_name": "DescriptionStyleModel",
            "description_width": "",
            "_view_module": "@jupyter-widgets/base",
            "_model_module_version": "1.5.0",
            "_view_count": null,
            "_view_module_version": "1.2.0",
            "_model_module": "@jupyter-widgets/controls"
          }
        },
        "1229b5ff87224c57b6031ad897690c4b": {
          "model_module": "@jupyter-widgets/base",
          "model_name": "LayoutModel",
          "model_module_version": "1.2.0",
          "state": {
            "_view_name": "LayoutView",
            "grid_template_rows": null,
            "right": null,
            "justify_content": null,
            "_view_module": "@jupyter-widgets/base",
            "overflow": null,
            "_model_module_version": "1.2.0",
            "_view_count": null,
            "flex_flow": null,
            "width": null,
            "min_width": null,
            "border": null,
            "align_items": null,
            "bottom": null,
            "_model_module": "@jupyter-widgets/base",
            "top": null,
            "grid_column": null,
            "overflow_y": null,
            "overflow_x": null,
            "grid_auto_flow": null,
            "grid_area": null,
            "grid_template_columns": null,
            "flex": null,
            "_model_name": "LayoutModel",
            "justify_items": null,
            "grid_row": null,
            "max_height": null,
            "align_content": null,
            "visibility": null,
            "align_self": null,
            "height": null,
            "min_height": null,
            "padding": null,
            "grid_auto_rows": null,
            "grid_gap": null,
            "max_width": null,
            "order": null,
            "_view_module_version": "1.2.0",
            "grid_template_areas": null,
            "object_position": null,
            "object_fit": null,
            "grid_auto_columns": null,
            "margin": null,
            "display": null,
            "left": null
          }
        },
        "bbbf45b2d0ef47a89e08a59aad334a3b": {
          "model_module": "@jupyter-widgets/controls",
          "model_name": "HBoxModel",
          "model_module_version": "1.5.0",
          "state": {
            "_view_name": "HBoxView",
            "_dom_classes": [],
            "_model_name": "HBoxModel",
            "_view_module": "@jupyter-widgets/controls",
            "_model_module_version": "1.5.0",
            "_view_count": null,
            "_view_module_version": "1.5.0",
            "box_style": "",
            "layout": "IPY_MODEL_74ebe6dca35d42f5b86d6b2c0f1cd7c1",
            "_model_module": "@jupyter-widgets/controls",
            "children": [
              "IPY_MODEL_dffc06a76d87415ab5bc0d7e9a455e4a",
              "IPY_MODEL_380123413c0b4f739890ac7ee45dc74e",
              "IPY_MODEL_19dac9d4f28340e481d51e2c1c7aedc7"
            ]
          }
        },
        "74ebe6dca35d42f5b86d6b2c0f1cd7c1": {
          "model_module": "@jupyter-widgets/base",
          "model_name": "LayoutModel",
          "model_module_version": "1.2.0",
          "state": {
            "_view_name": "LayoutView",
            "grid_template_rows": null,
            "right": null,
            "justify_content": null,
            "_view_module": "@jupyter-widgets/base",
            "overflow": null,
            "_model_module_version": "1.2.0",
            "_view_count": null,
            "flex_flow": null,
            "width": null,
            "min_width": null,
            "border": null,
            "align_items": null,
            "bottom": null,
            "_model_module": "@jupyter-widgets/base",
            "top": null,
            "grid_column": null,
            "overflow_y": null,
            "overflow_x": null,
            "grid_auto_flow": null,
            "grid_area": null,
            "grid_template_columns": null,
            "flex": null,
            "_model_name": "LayoutModel",
            "justify_items": null,
            "grid_row": null,
            "max_height": null,
            "align_content": null,
            "visibility": null,
            "align_self": null,
            "height": null,
            "min_height": null,
            "padding": null,
            "grid_auto_rows": null,
            "grid_gap": null,
            "max_width": null,
            "order": null,
            "_view_module_version": "1.2.0",
            "grid_template_areas": null,
            "object_position": null,
            "object_fit": null,
            "grid_auto_columns": null,
            "margin": null,
            "display": null,
            "left": null
          }
        },
        "dffc06a76d87415ab5bc0d7e9a455e4a": {
          "model_module": "@jupyter-widgets/controls",
          "model_name": "HTMLModel",
          "model_module_version": "1.5.0",
          "state": {
            "_view_name": "HTMLView",
            "style": "IPY_MODEL_b8821aba4e76473e91f2ca3000a5cdcc",
            "_dom_classes": [],
            "description": "",
            "_model_name": "HTMLModel",
            "placeholder": "​",
            "_view_module": "@jupyter-widgets/controls",
            "_model_module_version": "1.5.0",
            "value": "100%",
            "_view_count": null,
            "_view_module_version": "1.5.0",
            "description_tooltip": null,
            "_model_module": "@jupyter-widgets/controls",
            "layout": "IPY_MODEL_8332cad61502499e905f1da55395ccb1"
          }
        },
        "380123413c0b4f739890ac7ee45dc74e": {
          "model_module": "@jupyter-widgets/controls",
          "model_name": "FloatProgressModel",
          "model_module_version": "1.5.0",
          "state": {
            "_view_name": "ProgressView",
            "style": "IPY_MODEL_455470de4f2e42298a1857e7f1c57d86",
            "_dom_classes": [],
            "description": "",
            "_model_name": "FloatProgressModel",
            "bar_style": "success",
            "max": 4,
            "_view_module": "@jupyter-widgets/controls",
            "_model_module_version": "1.5.0",
            "value": 4,
            "_view_count": null,
            "_view_module_version": "1.5.0",
            "orientation": "horizontal",
            "min": 0,
            "description_tooltip": null,
            "_model_module": "@jupyter-widgets/controls",
            "layout": "IPY_MODEL_8916ce63ce38488eaaec735c086c05b7"
          }
        },
        "19dac9d4f28340e481d51e2c1c7aedc7": {
          "model_module": "@jupyter-widgets/controls",
          "model_name": "HTMLModel",
          "model_module_version": "1.5.0",
          "state": {
            "_view_name": "HTMLView",
            "style": "IPY_MODEL_df073c59f6b14f3bb6b6a865176ef77f",
            "_dom_classes": [],
            "description": "",
            "_model_name": "HTMLModel",
            "placeholder": "​",
            "_view_module": "@jupyter-widgets/controls",
            "_model_module_version": "1.5.0",
            "value": " 4/4 [02:35&lt;00:00, 40.81s/it]",
            "_view_count": null,
            "_view_module_version": "1.5.0",
            "description_tooltip": null,
            "_model_module": "@jupyter-widgets/controls",
            "layout": "IPY_MODEL_f948ec12753b431ab7221fdf762e86d7"
          }
        },
        "b8821aba4e76473e91f2ca3000a5cdcc": {
          "model_module": "@jupyter-widgets/controls",
          "model_name": "DescriptionStyleModel",
          "model_module_version": "1.5.0",
          "state": {
            "_view_name": "StyleView",
            "_model_name": "DescriptionStyleModel",
            "description_width": "",
            "_view_module": "@jupyter-widgets/base",
            "_model_module_version": "1.5.0",
            "_view_count": null,
            "_view_module_version": "1.2.0",
            "_model_module": "@jupyter-widgets/controls"
          }
        },
        "8332cad61502499e905f1da55395ccb1": {
          "model_module": "@jupyter-widgets/base",
          "model_name": "LayoutModel",
          "model_module_version": "1.2.0",
          "state": {
            "_view_name": "LayoutView",
            "grid_template_rows": null,
            "right": null,
            "justify_content": null,
            "_view_module": "@jupyter-widgets/base",
            "overflow": null,
            "_model_module_version": "1.2.0",
            "_view_count": null,
            "flex_flow": null,
            "width": null,
            "min_width": null,
            "border": null,
            "align_items": null,
            "bottom": null,
            "_model_module": "@jupyter-widgets/base",
            "top": null,
            "grid_column": null,
            "overflow_y": null,
            "overflow_x": null,
            "grid_auto_flow": null,
            "grid_area": null,
            "grid_template_columns": null,
            "flex": null,
            "_model_name": "LayoutModel",
            "justify_items": null,
            "grid_row": null,
            "max_height": null,
            "align_content": null,
            "visibility": null,
            "align_self": null,
            "height": null,
            "min_height": null,
            "padding": null,
            "grid_auto_rows": null,
            "grid_gap": null,
            "max_width": null,
            "order": null,
            "_view_module_version": "1.2.0",
            "grid_template_areas": null,
            "object_position": null,
            "object_fit": null,
            "grid_auto_columns": null,
            "margin": null,
            "display": null,
            "left": null
          }
        },
        "455470de4f2e42298a1857e7f1c57d86": {
          "model_module": "@jupyter-widgets/controls",
          "model_name": "ProgressStyleModel",
          "model_module_version": "1.5.0",
          "state": {
            "_view_name": "StyleView",
            "_model_name": "ProgressStyleModel",
            "description_width": "",
            "_view_module": "@jupyter-widgets/base",
            "_model_module_version": "1.5.0",
            "_view_count": null,
            "_view_module_version": "1.2.0",
            "bar_color": null,
            "_model_module": "@jupyter-widgets/controls"
          }
        },
        "8916ce63ce38488eaaec735c086c05b7": {
          "model_module": "@jupyter-widgets/base",
          "model_name": "LayoutModel",
          "model_module_version": "1.2.0",
          "state": {
            "_view_name": "LayoutView",
            "grid_template_rows": null,
            "right": null,
            "justify_content": null,
            "_view_module": "@jupyter-widgets/base",
            "overflow": null,
            "_model_module_version": "1.2.0",
            "_view_count": null,
            "flex_flow": null,
            "width": null,
            "min_width": null,
            "border": null,
            "align_items": null,
            "bottom": null,
            "_model_module": "@jupyter-widgets/base",
            "top": null,
            "grid_column": null,
            "overflow_y": null,
            "overflow_x": null,
            "grid_auto_flow": null,
            "grid_area": null,
            "grid_template_columns": null,
            "flex": null,
            "_model_name": "LayoutModel",
            "justify_items": null,
            "grid_row": null,
            "max_height": null,
            "align_content": null,
            "visibility": null,
            "align_self": null,
            "height": null,
            "min_height": null,
            "padding": null,
            "grid_auto_rows": null,
            "grid_gap": null,
            "max_width": null,
            "order": null,
            "_view_module_version": "1.2.0",
            "grid_template_areas": null,
            "object_position": null,
            "object_fit": null,
            "grid_auto_columns": null,
            "margin": null,
            "display": null,
            "left": null
          }
        },
        "df073c59f6b14f3bb6b6a865176ef77f": {
          "model_module": "@jupyter-widgets/controls",
          "model_name": "DescriptionStyleModel",
          "model_module_version": "1.5.0",
          "state": {
            "_view_name": "StyleView",
            "_model_name": "DescriptionStyleModel",
            "description_width": "",
            "_view_module": "@jupyter-widgets/base",
            "_model_module_version": "1.5.0",
            "_view_count": null,
            "_view_module_version": "1.2.0",
            "_model_module": "@jupyter-widgets/controls"
          }
        },
        "f948ec12753b431ab7221fdf762e86d7": {
          "model_module": "@jupyter-widgets/base",
          "model_name": "LayoutModel",
          "model_module_version": "1.2.0",
          "state": {
            "_view_name": "LayoutView",
            "grid_template_rows": null,
            "right": null,
            "justify_content": null,
            "_view_module": "@jupyter-widgets/base",
            "overflow": null,
            "_model_module_version": "1.2.0",
            "_view_count": null,
            "flex_flow": null,
            "width": null,
            "min_width": null,
            "border": null,
            "align_items": null,
            "bottom": null,
            "_model_module": "@jupyter-widgets/base",
            "top": null,
            "grid_column": null,
            "overflow_y": null,
            "overflow_x": null,
            "grid_auto_flow": null,
            "grid_area": null,
            "grid_template_columns": null,
            "flex": null,
            "_model_name": "LayoutModel",
            "justify_items": null,
            "grid_row": null,
            "max_height": null,
            "align_content": null,
            "visibility": null,
            "align_self": null,
            "height": null,
            "min_height": null,
            "padding": null,
            "grid_auto_rows": null,
            "grid_gap": null,
            "max_width": null,
            "order": null,
            "_view_module_version": "1.2.0",
            "grid_template_areas": null,
            "object_position": null,
            "object_fit": null,
            "grid_auto_columns": null,
            "margin": null,
            "display": null,
            "left": null
          }
        }
      }
    }
  },
  "cells": [
    {
      "cell_type": "markdown",
      "metadata": {
        "id": "view-in-github",
        "colab_type": "text"
      },
      "source": [
        "<a href=\"https://colab.research.google.com/github/itacademy-rogergallart/supervisat_classificacio/blob/main/S13_T01_AprenentatgeSupervisat_Classificacio.ipynb\" target=\"_parent\"><img src=\"https://colab.research.google.com/assets/colab-badge.svg\" alt=\"Open In Colab\"/></a>"
      ]
    },
    {
      "cell_type": "markdown",
      "metadata": {
        "id": "pqYiuFly2fLb"
      },
      "source": [
        "# S13 T01: Aprenentatge Supervisat - Classificació"
      ]
    },
    {
      "cell_type": "markdown",
      "metadata": {
        "id": "1M4DbpWUBr7x"
      },
      "source": [
        "Observacions:\n",
        "1.   Notebook desenvolupat utilitzant Google Colab\n",
        "2.   Repeteixo en aquest notebook el preprocessament del dataset que ja haviem fet en tasques anteriors per tal que el notebook sigui \"autocontingut\"\n",
        "\n"
      ]
    },
    {
      "cell_type": "code",
      "metadata": {
        "id": "nwryAgBJxtbB"
      },
      "source": [
        "# Upgrade Sklearn (in Colab) to latest version 0.24.2\n",
        "!pip install scikit-learn --upgrade  &> /dev/null"
      ],
      "execution_count": 1,
      "outputs": []
    },
    {
      "cell_type": "code",
      "metadata": {
        "id": "tx9PwCIk3nLt"
      },
      "source": [
        "# Imports\n",
        "import pandas as pd\n",
        "import numpy as np\n",
        "import matplotlib.pyplot as plt\n",
        "\n",
        "from sklearn.model_selection import train_test_split, cross_validate\n",
        "from sklearn.preprocessing import OneHotEncoder, StandardScaler, FunctionTransformer\n",
        "from sklearn.pipeline import Pipeline\n",
        "from sklearn.compose import ColumnTransformer, TransformedTargetRegressor\n",
        "from sklearn import set_config\n",
        "from sklearn.metrics import classification_report, confusion_matrix, ConfusionMatrixDisplay, make_scorer, accuracy_score\n",
        "\n",
        "from sklearn.linear_model import LogisticRegression\n",
        "from sklearn.tree import DecisionTreeClassifier\n",
        "from sklearn.neighbors import KNeighborsClassifier\n",
        "from sklearn.svm import SVC\n",
        "from sklearn.base import clone\n",
        "\n",
        "from scipy import stats\n",
        "\n",
        "import time\n",
        "from tabulate import tabulate\n",
        "from tqdm.notebook import tqdm\n",
        "from functools import partial\n",
        "from tempfile import mkdtemp\n",
        "from scipy.stats import iqr\n",
        "import random\n",
        "\n",
        "import matplotlib.pyplot as plt\n",
        "import seaborn as sns\n"
      ],
      "execution_count": 81,
      "outputs": []
    },
    {
      "cell_type": "code",
      "metadata": {
        "id": "OOk_EiJfF4uD"
      },
      "source": [
        "# Notebook configuration\n",
        "\n",
        "# Plots\n",
        "%matplotlib inline\n",
        "\n",
        "# Pandas\n",
        "pd.set_option(\"display.max_columns\", None) # Display all columns of DataFrame\n",
        "\n",
        "# Pipelines\n",
        "set_config(display='diagram')  # Display pipelines graphically\n",
        "\n",
        "# Progress bars\n",
        "tqdm = partial(tqdm, position=0, leave=True)\n",
        "\n",
        "# Constants\n",
        "RS = 123  # Random_state constant value\n"
      ],
      "execution_count": 2,
      "outputs": []
    },
    {
      "cell_type": "markdown",
      "metadata": {
        "id": "rw0MUqbz2fI8"
      },
      "source": [
        "## Exercici 1\n",
        "Crea almenys tres models de classificació diferents per intentar predir el millor possible l’endarreriment dels vols (ArrDelay) de DelayedFlights.csv. Considera si el vol ha arribat tard o no (ArrDelay > 0)."
      ]
    },
    {
      "cell_type": "markdown",
      "metadata": {
        "id": "FjiBn7aS3ytZ"
      },
      "source": [
        "### Preprocessament"
      ]
    },
    {
      "cell_type": "code",
      "metadata": {
        "colab": {
          "base_uri": "https://localhost:8080/"
        },
        "id": "Abl0Axyr3jta",
        "outputId": "7b7f4764-f337-4826-d885-a271494a95b9"
      },
      "source": [
        "# Import DataSet directly from Kaggle\n",
        "\n",
        "# Note: we add '&> /dev/null' to avoid displaying output of terminal commands \n",
        "\n",
        "datasetName = 'giovamata/airlinedelaycauses'\n",
        "zipName = 'airlinedelaycauses.zip'\n",
        "\n",
        "# Delete files on '/content' folder in Google Colab\n",
        "!rm /content/*.* &> /dev/null \n",
        "\n",
        "!pip install kaggle &> /dev/null\n",
        "\n",
        "!wget -O kaggle.json https://www.dropbox.com/s/xm28qj0cdfopm6c/kaggle.json?dl=0 &> /dev/null\n",
        "!mkdir -p ~/.kaggle/ && mv kaggle.json ~/.kaggle/ && chmod 600 ~/.kaggle/kaggle.json &> /dev/null\n",
        "\n",
        "!kaggle datasets download $datasetName &> /dev/null\n",
        "\n",
        "!unzip $zipName"
      ],
      "execution_count": 3,
      "outputs": [
        {
          "output_type": "stream",
          "name": "stdout",
          "text": [
            "Archive:  airlinedelaycauses.zip\n",
            "  inflating: DelayedFlights.csv      \n",
            "  inflating: st99_d00.dbf            \n",
            "  inflating: st99_d00.shp            \n",
            "  inflating: st99_d00.shx            \n"
          ]
        }
      ]
    },
    {
      "cell_type": "code",
      "metadata": {
        "colab": {
          "base_uri": "https://localhost:8080/",
          "height": 0
        },
        "id": "A0RftXWx4vTg",
        "outputId": "45ff4cc5-a64f-4a97-d7e7-75328b60acb6"
      },
      "source": [
        "# We create a DataFrame\n",
        "df = pd.read_csv('/content/DelayedFlights.csv', index_col=0)\n",
        "\n",
        "# We can delete feature FlightNum as it does not bring any relevant information\n",
        "# (it is arbitrary, there can be several flights with same number and different destinations)\n",
        "df.drop(columns=['FlightNum'], inplace=True)\n",
        "\n",
        "# We delete feature Year (all samples belong to same year 2008)\n",
        "df.drop(columns=['Year'], inplace=True)\n",
        "\n",
        "# Renaming of feature DayofMonth as DayOfMonth, for consistency\n",
        "df.rename(columns = {'DayofMonth': 'DayOfMonth'}, inplace = True)\n",
        "\n",
        "# Setting type of Month, DayOfMonth, DayOfWeek and CancellationCode as categorical\n",
        "df[['Month','DayOfMonth','DayOfWeek', 'CancellationCode']] = df[['Month','DayOfMonth','DayOfWeek', 'CancellationCode']].astype('category')\n",
        "\n",
        "# Setting type of Cancelled and Diverted as boolean\n",
        "df[['Cancelled','Diverted']] = df[['Cancelled','Diverted']].astype('bool')\n",
        "\n",
        "df.head()"
      ],
      "execution_count": 4,
      "outputs": [
        {
          "output_type": "stream",
          "name": "stderr",
          "text": [
            "/usr/local/lib/python3.7/dist-packages/numpy/lib/arraysetops.py:580: FutureWarning: elementwise comparison failed; returning scalar instead, but in the future will perform elementwise comparison\n",
            "  mask |= (ar1 == a)\n"
          ]
        },
        {
          "output_type": "execute_result",
          "data": {
            "text/html": [
              "<div>\n",
              "<style scoped>\n",
              "    .dataframe tbody tr th:only-of-type {\n",
              "        vertical-align: middle;\n",
              "    }\n",
              "\n",
              "    .dataframe tbody tr th {\n",
              "        vertical-align: top;\n",
              "    }\n",
              "\n",
              "    .dataframe thead th {\n",
              "        text-align: right;\n",
              "    }\n",
              "</style>\n",
              "<table border=\"1\" class=\"dataframe\">\n",
              "  <thead>\n",
              "    <tr style=\"text-align: right;\">\n",
              "      <th></th>\n",
              "      <th>Month</th>\n",
              "      <th>DayOfMonth</th>\n",
              "      <th>DayOfWeek</th>\n",
              "      <th>DepTime</th>\n",
              "      <th>CRSDepTime</th>\n",
              "      <th>ArrTime</th>\n",
              "      <th>CRSArrTime</th>\n",
              "      <th>UniqueCarrier</th>\n",
              "      <th>TailNum</th>\n",
              "      <th>ActualElapsedTime</th>\n",
              "      <th>CRSElapsedTime</th>\n",
              "      <th>AirTime</th>\n",
              "      <th>ArrDelay</th>\n",
              "      <th>DepDelay</th>\n",
              "      <th>Origin</th>\n",
              "      <th>Dest</th>\n",
              "      <th>Distance</th>\n",
              "      <th>TaxiIn</th>\n",
              "      <th>TaxiOut</th>\n",
              "      <th>Cancelled</th>\n",
              "      <th>CancellationCode</th>\n",
              "      <th>Diverted</th>\n",
              "      <th>CarrierDelay</th>\n",
              "      <th>WeatherDelay</th>\n",
              "      <th>NASDelay</th>\n",
              "      <th>SecurityDelay</th>\n",
              "      <th>LateAircraftDelay</th>\n",
              "    </tr>\n",
              "  </thead>\n",
              "  <tbody>\n",
              "    <tr>\n",
              "      <th>0</th>\n",
              "      <td>1</td>\n",
              "      <td>3</td>\n",
              "      <td>4</td>\n",
              "      <td>2003.0</td>\n",
              "      <td>1955</td>\n",
              "      <td>2211.0</td>\n",
              "      <td>2225</td>\n",
              "      <td>WN</td>\n",
              "      <td>N712SW</td>\n",
              "      <td>128.0</td>\n",
              "      <td>150.0</td>\n",
              "      <td>116.0</td>\n",
              "      <td>-14.0</td>\n",
              "      <td>8.0</td>\n",
              "      <td>IAD</td>\n",
              "      <td>TPA</td>\n",
              "      <td>810</td>\n",
              "      <td>4.0</td>\n",
              "      <td>8.0</td>\n",
              "      <td>False</td>\n",
              "      <td>N</td>\n",
              "      <td>False</td>\n",
              "      <td>NaN</td>\n",
              "      <td>NaN</td>\n",
              "      <td>NaN</td>\n",
              "      <td>NaN</td>\n",
              "      <td>NaN</td>\n",
              "    </tr>\n",
              "    <tr>\n",
              "      <th>1</th>\n",
              "      <td>1</td>\n",
              "      <td>3</td>\n",
              "      <td>4</td>\n",
              "      <td>754.0</td>\n",
              "      <td>735</td>\n",
              "      <td>1002.0</td>\n",
              "      <td>1000</td>\n",
              "      <td>WN</td>\n",
              "      <td>N772SW</td>\n",
              "      <td>128.0</td>\n",
              "      <td>145.0</td>\n",
              "      <td>113.0</td>\n",
              "      <td>2.0</td>\n",
              "      <td>19.0</td>\n",
              "      <td>IAD</td>\n",
              "      <td>TPA</td>\n",
              "      <td>810</td>\n",
              "      <td>5.0</td>\n",
              "      <td>10.0</td>\n",
              "      <td>False</td>\n",
              "      <td>N</td>\n",
              "      <td>False</td>\n",
              "      <td>NaN</td>\n",
              "      <td>NaN</td>\n",
              "      <td>NaN</td>\n",
              "      <td>NaN</td>\n",
              "      <td>NaN</td>\n",
              "    </tr>\n",
              "    <tr>\n",
              "      <th>2</th>\n",
              "      <td>1</td>\n",
              "      <td>3</td>\n",
              "      <td>4</td>\n",
              "      <td>628.0</td>\n",
              "      <td>620</td>\n",
              "      <td>804.0</td>\n",
              "      <td>750</td>\n",
              "      <td>WN</td>\n",
              "      <td>N428WN</td>\n",
              "      <td>96.0</td>\n",
              "      <td>90.0</td>\n",
              "      <td>76.0</td>\n",
              "      <td>14.0</td>\n",
              "      <td>8.0</td>\n",
              "      <td>IND</td>\n",
              "      <td>BWI</td>\n",
              "      <td>515</td>\n",
              "      <td>3.0</td>\n",
              "      <td>17.0</td>\n",
              "      <td>False</td>\n",
              "      <td>N</td>\n",
              "      <td>False</td>\n",
              "      <td>NaN</td>\n",
              "      <td>NaN</td>\n",
              "      <td>NaN</td>\n",
              "      <td>NaN</td>\n",
              "      <td>NaN</td>\n",
              "    </tr>\n",
              "    <tr>\n",
              "      <th>4</th>\n",
              "      <td>1</td>\n",
              "      <td>3</td>\n",
              "      <td>4</td>\n",
              "      <td>1829.0</td>\n",
              "      <td>1755</td>\n",
              "      <td>1959.0</td>\n",
              "      <td>1925</td>\n",
              "      <td>WN</td>\n",
              "      <td>N464WN</td>\n",
              "      <td>90.0</td>\n",
              "      <td>90.0</td>\n",
              "      <td>77.0</td>\n",
              "      <td>34.0</td>\n",
              "      <td>34.0</td>\n",
              "      <td>IND</td>\n",
              "      <td>BWI</td>\n",
              "      <td>515</td>\n",
              "      <td>3.0</td>\n",
              "      <td>10.0</td>\n",
              "      <td>False</td>\n",
              "      <td>N</td>\n",
              "      <td>False</td>\n",
              "      <td>2.0</td>\n",
              "      <td>0.0</td>\n",
              "      <td>0.0</td>\n",
              "      <td>0.0</td>\n",
              "      <td>32.0</td>\n",
              "    </tr>\n",
              "    <tr>\n",
              "      <th>5</th>\n",
              "      <td>1</td>\n",
              "      <td>3</td>\n",
              "      <td>4</td>\n",
              "      <td>1940.0</td>\n",
              "      <td>1915</td>\n",
              "      <td>2121.0</td>\n",
              "      <td>2110</td>\n",
              "      <td>WN</td>\n",
              "      <td>N726SW</td>\n",
              "      <td>101.0</td>\n",
              "      <td>115.0</td>\n",
              "      <td>87.0</td>\n",
              "      <td>11.0</td>\n",
              "      <td>25.0</td>\n",
              "      <td>IND</td>\n",
              "      <td>JAX</td>\n",
              "      <td>688</td>\n",
              "      <td>4.0</td>\n",
              "      <td>10.0</td>\n",
              "      <td>False</td>\n",
              "      <td>N</td>\n",
              "      <td>False</td>\n",
              "      <td>NaN</td>\n",
              "      <td>NaN</td>\n",
              "      <td>NaN</td>\n",
              "      <td>NaN</td>\n",
              "      <td>NaN</td>\n",
              "    </tr>\n",
              "  </tbody>\n",
              "</table>\n",
              "</div>"
            ],
            "text/plain": [
              "  Month DayOfMonth DayOfWeek  DepTime  CRSDepTime  ArrTime  CRSArrTime  \\\n",
              "0     1          3         4   2003.0        1955   2211.0        2225   \n",
              "1     1          3         4    754.0         735   1002.0        1000   \n",
              "2     1          3         4    628.0         620    804.0         750   \n",
              "4     1          3         4   1829.0        1755   1959.0        1925   \n",
              "5     1          3         4   1940.0        1915   2121.0        2110   \n",
              "\n",
              "  UniqueCarrier TailNum  ActualElapsedTime  CRSElapsedTime  AirTime  ArrDelay  \\\n",
              "0            WN  N712SW              128.0           150.0    116.0     -14.0   \n",
              "1            WN  N772SW              128.0           145.0    113.0       2.0   \n",
              "2            WN  N428WN               96.0            90.0     76.0      14.0   \n",
              "4            WN  N464WN               90.0            90.0     77.0      34.0   \n",
              "5            WN  N726SW              101.0           115.0     87.0      11.0   \n",
              "\n",
              "   DepDelay Origin Dest  Distance  TaxiIn  TaxiOut  Cancelled  \\\n",
              "0       8.0    IAD  TPA       810     4.0      8.0      False   \n",
              "1      19.0    IAD  TPA       810     5.0     10.0      False   \n",
              "2       8.0    IND  BWI       515     3.0     17.0      False   \n",
              "4      34.0    IND  BWI       515     3.0     10.0      False   \n",
              "5      25.0    IND  JAX       688     4.0     10.0      False   \n",
              "\n",
              "  CancellationCode  Diverted  CarrierDelay  WeatherDelay  NASDelay  \\\n",
              "0                N     False           NaN           NaN       NaN   \n",
              "1                N     False           NaN           NaN       NaN   \n",
              "2                N     False           NaN           NaN       NaN   \n",
              "4                N     False           2.0           0.0       0.0   \n",
              "5                N     False           NaN           NaN       NaN   \n",
              "\n",
              "   SecurityDelay  LateAircraftDelay  \n",
              "0            NaN                NaN  \n",
              "1            NaN                NaN  \n",
              "2            NaN                NaN  \n",
              "4            0.0               32.0  \n",
              "5            NaN                NaN  "
            ]
          },
          "metadata": {},
          "execution_count": 4
        }
      ]
    },
    {
      "cell_type": "code",
      "metadata": {
        "colab": {
          "base_uri": "https://localhost:8080/",
          "height": 0
        },
        "id": "RWhuQ2b75E0s",
        "outputId": "02d8999a-f492-40d3-c945-5cc52bcc634f"
      },
      "source": [
        "# Correlation Heatmap between features\n",
        "plt.figure(figsize=(16, 6))\n",
        "mask = np.triu(np.ones_like(df.corr(), dtype=np.bool))\n",
        "heatmap = sns.heatmap(df.corr(), mask=mask, vmin=-1, vmax=1, annot=True, cmap='BrBG')\n",
        "heatmap.set_title('Correlation Heatmap', fontdict={'fontsize':18}, pad=16);"
      ],
      "execution_count": 5,
      "outputs": [
        {
          "output_type": "display_data",
          "data": {
            "image/png": "[encoded data removed]",
            "text/plain": [
              "<Figure size 1152x432 with 2 Axes>"
            ]
          },
          "metadata": {
            "needs_background": "light"
          }
        }
      ]
    },
    {
      "cell_type": "code",
      "metadata": {
        "colab": {
          "base_uri": "https://localhost:8080/",
          "height": 0
        },
        "id": "RJJO8kRz6R6z",
        "outputId": "f1cf8251-d0f9-4824-ffe7-0f60f1c842b6"
      },
      "source": [
        "# Correlation of features with target ArrDelay (sorted)\n",
        "plt.figure(figsize=(8, 12))\n",
        "heatmap = sns.heatmap(df.corr()[['ArrDelay']].sort_values(by='ArrDelay', ascending=False), vmin=-1, vmax=1, annot=True, cmap='BrBG')\n",
        "heatmap.set_title('Features Correlating with ArrDelay', fontdict={'fontsize':18}, pad=16);"
      ],
      "execution_count": 6,
      "outputs": [
        {
          "output_type": "display_data",
          "data": {
            "image/png": "[encoded data removed]",
            "text/plain": [
              "<Figure size 576x864 with 2 Axes>"
            ]
          },
          "metadata": {
            "needs_background": "light"
          }
        }
      ]
    },
    {
      "cell_type": "markdown",
      "metadata": {
        "id": "e2J5Fv7P1Hg3"
      },
      "source": [
        "Veiem que sempre que el vol ha estat cancel·lat (Cancelled==True) o Desviat (Diverted==True) la variable target ArrDelay no està definida (ArrDelay=NaN), com és lògic ja que en aquests casos el vol no arriba a destinació. Per tant podem eliminar les files que tenen Cancelled==True i Diverted==True, i les columnes Cancelled (i CancellationCode) i Diverted"
      ]
    },
    {
      "cell_type": "code",
      "metadata": {
        "colab": {
          "base_uri": "https://localhost:8080/"
        },
        "id": "nLE0gZSg7tHr",
        "outputId": "0c902e5e-29de-4c9e-999b-61de1fe022a1"
      },
      "source": [
        "# We check that whenever a glight is cancelled or diverted, ArrDelay is not defined (NaN)\n",
        "\n",
        "print(f'Number of entries with Cancelled==True and non-NaN ArrDelay: {df[df.Cancelled & ~df.ArrDelay.isna()].shape[0]}')\n",
        "print(f'Number of entries with Diverted==True and non-NaN ArrDelay: {df[df.Diverted & ~df.ArrDelay.isna()].shape[0]}')\n",
        "\n",
        "# Therefore we can remove:\n",
        "# - samples (rows) where Cancelled=True or Diverted=True\n",
        "# - features (columns) Cancelled, CancellationCode and Diverted\n",
        "\n",
        "df.drop(df[df.Cancelled  | df.Diverted].index, inplace=True)\n",
        "df.drop(columns=['Cancelled', 'CancellationCode', 'Diverted'], inplace=True)"
      ],
      "execution_count": 7,
      "outputs": [
        {
          "output_type": "stream",
          "name": "stdout",
          "text": [
            "Number of entries with Cancelled==True and non-NaN ArrDelay: 0\n",
            "Number of entries with Diverted==True and non-NaN ArrDelay: 0\n"
          ]
        }
      ]
    },
    {
      "cell_type": "markdown",
      "metadata": {
        "id": "nrP7yAkNJSsN"
      },
      "source": [
        "Veiem que ArrDelay està fortament correlacionat amb DepDelay (un vol que surt d'origen amb retard és molt probable que arribi a destinació amb retard també). També està bastant correlacionat amb les altres variables de retard (CarrierDelay, LateAircraftDelay, etc) com és lògic. De fet ArrDelay és simplement la suma de tots aquests retards:\n",
        "\n",
        "$ArrDelay = CarrierDelay + WeatherDelay + NASDelay + SecurityDelay + LateAircraftDelay$"
      ]
    },
    {
      "cell_type": "code",
      "metadata": {
        "colab": {
          "base_uri": "https://localhost:8080/"
        },
        "id": "fhAB-3rmIoID",
        "outputId": "48bdd567-5949-4778-de3a-48fa6aec01cc"
      },
      "source": [
        "# Checking that ArrDelay - (CarrierDelay + WeatherDelay + NASDelay + SecurityDelay + LateAircraftDelay)\n",
        "# is always 0 (or NaN when not defined)\n",
        "foo = df.CarrierDelay + df.WeatherDelay + df.NASDelay + df.SecurityDelay + df.LateAircraftDelay - df.ArrDelay\n",
        "foo.value_counts(dropna=False)"
      ],
      "execution_count": 8,
      "outputs": [
        {
          "output_type": "execute_result",
          "data": {
            "text/plain": [
              "0.0    1247488\n",
              "NaN     680883\n",
              "dtype: int64"
            ]
          },
          "metadata": {},
          "execution_count": 8
        }
      ]
    },
    {
      "cell_type": "markdown",
      "metadata": {
        "id": "QqVZggvW--eI"
      },
      "source": [
        "D'altra banda, en una situació real, lo interessant seria poder predir quin serà el retard d'arribada **ABANS** que el vol arribi a destinació. Per tant abans de coneixer els valors de CarrierDelay, WeatherDelay, ArrTime, etc. Per això proposem  crear un model només a partir de les variables que es coneixen en el moment en que l'avió s'enlaira i abans que aterri:\n",
        "Month, DayOfMonth, DayOfWeek, DepTime, DepDelay, CRSDepTime, CRSArrTime, UniqueCarrier, TailNum, CRSElapsedTime, Origin, Dest, Distance, TaxiOut.\n",
        "\n",
        "D'altra banda, donada la relació:  \n",
        "\n",
        "$DepDelay = DepTime - CRSDepTime$\n",
        "\n",
        "podem eliminar una de les dues variables. Eliminem CRSDepTime.\n"
      ]
    },
    {
      "cell_type": "markdown",
      "metadata": {
        "id": "8OMMwTbE4QuB"
      },
      "source": [
        "Revisem si hi ha missing values:"
      ]
    },
    {
      "cell_type": "code",
      "metadata": {
        "colab": {
          "base_uri": "https://localhost:8080/"
        },
        "id": "iYeyohBsAvlN",
        "outputId": "e3eaa346-64ee-4d3d-8a6c-81a2ef905f9b"
      },
      "source": [
        "# Checking missing values\n",
        "df.isna().sum()"
      ],
      "execution_count": 9,
      "outputs": [
        {
          "output_type": "execute_result",
          "data": {
            "text/plain": [
              "Month                     0\n",
              "DayOfMonth                0\n",
              "DayOfWeek                 0\n",
              "DepTime                   0\n",
              "CRSDepTime                0\n",
              "ArrTime                   0\n",
              "CRSArrTime                0\n",
              "UniqueCarrier             0\n",
              "TailNum                   3\n",
              "ActualElapsedTime         0\n",
              "CRSElapsedTime            0\n",
              "AirTime                   0\n",
              "ArrDelay                  0\n",
              "DepDelay                  0\n",
              "Origin                    0\n",
              "Dest                      0\n",
              "Distance                  0\n",
              "TaxiIn                    0\n",
              "TaxiOut                   0\n",
              "CarrierDelay         680883\n",
              "WeatherDelay         680883\n",
              "NASDelay             680883\n",
              "SecurityDelay        680883\n",
              "LateAircraftDelay    680883\n",
              "dtype: int64"
            ]
          },
          "metadata": {},
          "execution_count": 9
        }
      ]
    },
    {
      "cell_type": "markdown",
      "metadata": {
        "id": "XugysG8S4jSi"
      },
      "source": [
        "Veiem que només hi ha 3 NaN a la columna TailNum. Eliminem aquestes 3 files."
      ]
    },
    {
      "cell_type": "code",
      "metadata": {
        "id": "TDp-KZd4QAws"
      },
      "source": [
        "# Removing 3 rows that have TailNum = NaN\n",
        "df.drop(df[df.TailNum.isna()].index, inplace=True)"
      ],
      "execution_count": 10,
      "outputs": []
    },
    {
      "cell_type": "code",
      "metadata": {
        "id": "TqRC2ZCCcmWp"
      },
      "source": [
        "# We create binary target variable 'IsDelayed' and remove 'ArrDelay'\n",
        "df['IsDelayed'] = df['ArrDelay'] > 0\n",
        "df['IsDelayed'] = df['IsDelayed'].astype(int)  # To convert booleans into 0/1"
      ],
      "execution_count": 11,
      "outputs": []
    },
    {
      "cell_type": "markdown",
      "metadata": {
        "id": "CCLs-Zx54vkk"
      },
      "source": [
        "El data set queda així:"
      ]
    },
    {
      "cell_type": "code",
      "metadata": {
        "id": "LyAf2cwiLeEK"
      },
      "source": [
        "features = ['Month', 'DayOfMonth', 'DayOfWeek', 'DepTime', 'DepDelay', 'CRSArrTime', 'UniqueCarrier', 'TailNum', 'CRSElapsedTime', 'Origin', 'Dest', 'Distance', 'TaxiOut']\n",
        "target = ['IsDelayed']\n",
        "\n",
        "df = df[features+target]"
      ],
      "execution_count": 12,
      "outputs": []
    },
    {
      "cell_type": "code",
      "metadata": {
        "colab": {
          "base_uri": "https://localhost:8080/",
          "height": 0
        },
        "id": "JQlMVk1a4zT1",
        "outputId": "856e4d30-aed2-4cde-f275-904b15fb6cbf"
      },
      "source": [
        "display(df.head())\n",
        "print(f'Number of columns: {df.shape[1]}')\n",
        "print(f'Number of rows: {df.shape[0]}')\n",
        "print(f'Features: {features}')\n",
        "print(f'Target: {target}')"
      ],
      "execution_count": 13,
      "outputs": [
        {
          "output_type": "display_data",
          "data": {
            "text/html": [
              "<div>\n",
              "<style scoped>\n",
              "    .dataframe tbody tr th:only-of-type {\n",
              "        vertical-align: middle;\n",
              "    }\n",
              "\n",
              "    .dataframe tbody tr th {\n",
              "        vertical-align: top;\n",
              "    }\n",
              "\n",
              "    .dataframe thead th {\n",
              "        text-align: right;\n",
              "    }\n",
              "</style>\n",
              "<table border=\"1\" class=\"dataframe\">\n",
              "  <thead>\n",
              "    <tr style=\"text-align: right;\">\n",
              "      <th></th>\n",
              "      <th>Month</th>\n",
              "      <th>DayOfMonth</th>\n",
              "      <th>DayOfWeek</th>\n",
              "      <th>DepTime</th>\n",
              "      <th>DepDelay</th>\n",
              "      <th>CRSArrTime</th>\n",
              "      <th>UniqueCarrier</th>\n",
              "      <th>TailNum</th>\n",
              "      <th>CRSElapsedTime</th>\n",
              "      <th>Origin</th>\n",
              "      <th>Dest</th>\n",
              "      <th>Distance</th>\n",
              "      <th>TaxiOut</th>\n",
              "      <th>IsDelayed</th>\n",
              "    </tr>\n",
              "  </thead>\n",
              "  <tbody>\n",
              "    <tr>\n",
              "      <th>0</th>\n",
              "      <td>1</td>\n",
              "      <td>3</td>\n",
              "      <td>4</td>\n",
              "      <td>2003.0</td>\n",
              "      <td>8.0</td>\n",
              "      <td>2225</td>\n",
              "      <td>WN</td>\n",
              "      <td>N712SW</td>\n",
              "      <td>150.0</td>\n",
              "      <td>IAD</td>\n",
              "      <td>TPA</td>\n",
              "      <td>810</td>\n",
              "      <td>8.0</td>\n",
              "      <td>0</td>\n",
              "    </tr>\n",
              "    <tr>\n",
              "      <th>1</th>\n",
              "      <td>1</td>\n",
              "      <td>3</td>\n",
              "      <td>4</td>\n",
              "      <td>754.0</td>\n",
              "      <td>19.0</td>\n",
              "      <td>1000</td>\n",
              "      <td>WN</td>\n",
              "      <td>N772SW</td>\n",
              "      <td>145.0</td>\n",
              "      <td>IAD</td>\n",
              "      <td>TPA</td>\n",
              "      <td>810</td>\n",
              "      <td>10.0</td>\n",
              "      <td>1</td>\n",
              "    </tr>\n",
              "    <tr>\n",
              "      <th>2</th>\n",
              "      <td>1</td>\n",
              "      <td>3</td>\n",
              "      <td>4</td>\n",
              "      <td>628.0</td>\n",
              "      <td>8.0</td>\n",
              "      <td>750</td>\n",
              "      <td>WN</td>\n",
              "      <td>N428WN</td>\n",
              "      <td>90.0</td>\n",
              "      <td>IND</td>\n",
              "      <td>BWI</td>\n",
              "      <td>515</td>\n",
              "      <td>17.0</td>\n",
              "      <td>1</td>\n",
              "    </tr>\n",
              "    <tr>\n",
              "      <th>4</th>\n",
              "      <td>1</td>\n",
              "      <td>3</td>\n",
              "      <td>4</td>\n",
              "      <td>1829.0</td>\n",
              "      <td>34.0</td>\n",
              "      <td>1925</td>\n",
              "      <td>WN</td>\n",
              "      <td>N464WN</td>\n",
              "      <td>90.0</td>\n",
              "      <td>IND</td>\n",
              "      <td>BWI</td>\n",
              "      <td>515</td>\n",
              "      <td>10.0</td>\n",
              "      <td>1</td>\n",
              "    </tr>\n",
              "    <tr>\n",
              "      <th>5</th>\n",
              "      <td>1</td>\n",
              "      <td>3</td>\n",
              "      <td>4</td>\n",
              "      <td>1940.0</td>\n",
              "      <td>25.0</td>\n",
              "      <td>2110</td>\n",
              "      <td>WN</td>\n",
              "      <td>N726SW</td>\n",
              "      <td>115.0</td>\n",
              "      <td>IND</td>\n",
              "      <td>JAX</td>\n",
              "      <td>688</td>\n",
              "      <td>10.0</td>\n",
              "      <td>1</td>\n",
              "    </tr>\n",
              "  </tbody>\n",
              "</table>\n",
              "</div>"
            ],
            "text/plain": [
              "  Month DayOfMonth DayOfWeek  DepTime  DepDelay  CRSArrTime UniqueCarrier  \\\n",
              "0     1          3         4   2003.0       8.0        2225            WN   \n",
              "1     1          3         4    754.0      19.0        1000            WN   \n",
              "2     1          3         4    628.0       8.0         750            WN   \n",
              "4     1          3         4   1829.0      34.0        1925            WN   \n",
              "5     1          3         4   1940.0      25.0        2110            WN   \n",
              "\n",
              "  TailNum  CRSElapsedTime Origin Dest  Distance  TaxiOut  IsDelayed  \n",
              "0  N712SW           150.0    IAD  TPA       810      8.0          0  \n",
              "1  N772SW           145.0    IAD  TPA       810     10.0          1  \n",
              "2  N428WN            90.0    IND  BWI       515     17.0          1  \n",
              "4  N464WN            90.0    IND  BWI       515     10.0          1  \n",
              "5  N726SW           115.0    IND  JAX       688     10.0          1  "
            ]
          },
          "metadata": {}
        },
        {
          "output_type": "stream",
          "name": "stdout",
          "text": [
            "Number of columns: 14\n",
            "Number of rows: 1928368\n",
            "Features: ['Month', 'DayOfMonth', 'DayOfWeek', 'DepTime', 'DepDelay', 'CRSArrTime', 'UniqueCarrier', 'TailNum', 'CRSElapsedTime', 'Origin', 'Dest', 'Distance', 'TaxiOut']\n",
            "Target: ['IsDelayed']\n"
          ]
        }
      ]
    },
    {
      "cell_type": "markdown",
      "metadata": {
        "id": "cN1JUgeaQP4u"
      },
      "source": [
        "### Models de classificació"
      ]
    },
    {
      "cell_type": "code",
      "metadata": {
        "colab": {
          "base_uri": "https://localhost:8080/"
        },
        "id": "GCHfgdNzFB19",
        "outputId": "537e6afb-5d1f-4d68-c58f-4afe490630f7"
      },
      "source": [
        "# We split the features in 2 groups, depending on the preprocessing to be performed\n",
        "# At this moment we consider Month, Day, DayOfWeek as numerical features (not categorical)\n",
        "\n",
        "# Categorical features\n",
        "cat_columns = ['TailNum', 'UniqueCarrier', 'Dest', 'Origin']\n",
        "\n",
        "# Numerical features (all the rest)\n",
        "num_columns = ['Month', 'DayOfMonth', 'DayOfWeek', 'DepTime', 'DepDelay',\n",
        "               'CRSArrTime', 'CRSElapsedTime', 'Distance', 'TaxiOut']\n",
        "\n",
        "target_column = ['IsDelayed']\n",
        "\n",
        "print(f\"Categorical columns are: {cat_columns}\")\n",
        "print(f\"Numerical columns are: {num_columns}\")\n",
        "print(f\"Target column is: {target_column}\")"
      ],
      "execution_count": 14,
      "outputs": [
        {
          "output_type": "stream",
          "name": "stdout",
          "text": [
            "Categorical columns are: ['TailNum', 'UniqueCarrier', 'Dest', 'Origin']\n",
            "Numerical columns are: ['Month', 'DayOfMonth', 'DayOfWeek', 'DepTime', 'DepDelay', 'CRSArrTime', 'CRSElapsedTime', 'Distance', 'TaxiOut']\n",
            "Target column is: ['IsDelayed']\n"
          ]
        }
      ]
    },
    {
      "cell_type": "markdown",
      "metadata": {
        "id": "z-kLnUUV9L4T"
      },
      "source": [
        "Definim 2 preprocessats diferents segons el tipus de variable."
      ]
    },
    {
      "cell_type": "code",
      "metadata": {
        "id": "VJ7aMO3MQGJg"
      },
      "source": [
        "# Preprocessing/Transformations steps for the pipelines\n",
        "\n",
        "# Transformations for numerical features:\n",
        "#   - StandardScaler()\n",
        "num_pipe = Pipeline([('scaler', StandardScaler())])\n",
        "\n",
        "# Transformations for categorical features\n",
        "#   - One Hot Encoding\n",
        "cat_pipe = Pipeline([('ohe', OneHotEncoder(handle_unknown='ignore'))])\n",
        "\n",
        "# We combine both transformations\n",
        "preprocessor = ColumnTransformer(transformers=[\n",
        "                                               ('num_transf', num_pipe, num_columns),\n",
        "                                               ('cat_transf', cat_pipe, cat_columns)\n",
        "                                               ],\n",
        "                                 verbose=False)\n",
        "\n",
        "# For some models, the target needs to be a 1D array (not a 2D array).\n",
        "# So we create this transformation to convert to 1D and we will use it when needed\n",
        "reshape1D_transf = FunctionTransformer(np.ravel)"
      ],
      "execution_count": 15,
      "outputs": []
    },
    {
      "cell_type": "markdown",
      "metadata": {
        "id": "JfWHAW7z9TBq"
      },
      "source": [
        "Definim 4 models de regressió usant Pipelines i incloent l'etapa de preprocessament. En la majoria de casos deixem els valors de hiperparametres definits per defecte. "
      ]
    },
    {
      "cell_type": "code",
      "metadata": {
        "id": "ZjkDOzjzVEk8"
      },
      "source": [
        "# Note we use a different preprocessing step in each model (we clone the first preprocessor)\n",
        "# so that we can train each model with different training set sizes. Otherwise, if we share\n",
        "# the same preprocessing (which is the optimal way) but the training sets are different,\n",
        "# the number of features after OHE is different and we get errors on matrix sizes, etc.\n",
        "\n",
        "# Decision Tree\n",
        "dt_pipeline = Pipeline([\n",
        "                        ('preprocess', preprocessor), \n",
        "                        ('decision_tree', DecisionTreeClassifier(random_state=RS))\n",
        "                       ])\n",
        "\n",
        "knn_pipeline = Pipeline([\n",
        "                        ('preprocess', clone(preprocessor)),\n",
        "                        ('knn', TransformedTargetRegressor(regressor=KNeighborsClassifier(n_jobs=-1),\n",
        "                                                           transformer=reshape1D_transf, \n",
        "                                                           check_inverse=False))\n",
        "                       ])\n",
        "\n",
        "# Logistic Regression\n",
        "lr_pipeline = Pipeline([\n",
        "                        ('preprocess', clone(preprocessor)), \n",
        "                        ('logistic_regression', TransformedTargetRegressor(regressor=LogisticRegression(max_iter=200,random_state=RS, n_jobs=-1),\n",
        "                                                           transformer=reshape1D_transf, \n",
        "                                                           check_inverse=False))\n",
        "                       ])\n",
        "\n",
        "# SVM\n",
        "svm_pipeline = Pipeline([\n",
        "                        ('preprocess', clone(preprocessor)), \n",
        "                        ('svm', TransformedTargetRegressor(regressor=SVC(random_state=RS),\n",
        "                                                           transformer=reshape1D_transf, \n",
        "                                                           check_inverse=False))\n",
        "                       ])\n",
        "\n",
        "# List of models\n",
        "models = [dt_pipeline, knn_pipeline, lr_pipeline, svm_pipeline]\n"
      ],
      "execution_count": 25,
      "outputs": []
    },
    {
      "cell_type": "markdown",
      "metadata": {
        "id": "coWJALry2fGX"
      },
      "source": [
        "## Exercici 2\n",
        "Compara els models de classificació utilitzant la precisió (accuracy), una matriu de confiança i d’altres mètriques més avançades."
      ]
    },
    {
      "cell_type": "markdown",
      "metadata": {
        "id": "GjxHPHd-sM0-"
      },
      "source": [
        "### Undersampling:"
      ]
    },
    {
      "cell_type": "markdown",
      "metadata": {
        "id": "sG52H18I6whz"
      },
      "source": [
        "Separem el dataset en dos: Training set i Test set (no fem servir Validation set perquè tampoc farem un ajust fi dels hiperparametres)."
      ]
    },
    {
      "cell_type": "markdown",
      "metadata": {
        "id": "2uPFbOlZBcWf"
      },
      "source": [
        "Abans, però, observem que hi ha moltissimes més mostres de la classe IsDelayed=1 que de la classe IsDelayed=0. El dataset està desbalancejat cosa que és un problema al moment d'entrenar i d'evaluar el model. Com que el dataset és molt gran, utilitzarem el mètode de submostrejar (undersampling) la classe més freqüent."
      ]
    },
    {
      "cell_type": "code",
      "metadata": {
        "colab": {
          "base_uri": "https://localhost:8080/"
        },
        "id": "fudidZ71BHA_",
        "outputId": "b067181c-e890-4936-d93d-778aec83659e"
      },
      "source": [
        "total_flights = df.shape[0]\n",
        "flights_delayed = df[df.IsDelayed==1].shape[0]\n",
        "flights_not_delayed = df[df.IsDelayed==0].shape[0] \n",
        "\n",
        "print(f'Number of flights delayed (class IsDelayed=1): {flights_delayed} ({100*flights_delayed/total_flights:.2f}%)')\n",
        "print(f'Number of flights not delayed (class IsDelayed=0): {flights_not_delayed} ({100*flights_not_delayed/total_flights:.2f}%)')"
      ],
      "execution_count": 17,
      "outputs": [
        {
          "output_type": "stream",
          "name": "stdout",
          "text": [
            "Number of flights delayed (class IsDelayed=1): 1723412 (89.37%)\n",
            "Number of flights not delayed (class IsDelayed=0): 204956 (10.63%)\n"
          ]
        }
      ]
    },
    {
      "cell_type": "code",
      "metadata": {
        "id": "4OM4yDNjBCey"
      },
      "source": [
        "# Undersampling the majority class (IsDelayed=1)\n",
        "\n",
        "shuffled_df = df.sample(frac=1,random_state=RS)\n",
        "not_delayed_df = shuffled_df.loc[shuffled_df['IsDelayed'] == 0]\n",
        "delayed_df = shuffled_df.loc[shuffled_df['IsDelayed'] == 1].sample(n=not_delayed_df.shape[0],random_state=RS)\n",
        "balanced_df = pd.concat([not_delayed_df, delayed_df])"
      ],
      "execution_count": 18,
      "outputs": []
    },
    {
      "cell_type": "code",
      "metadata": {
        "colab": {
          "base_uri": "https://localhost:8080/"
        },
        "id": "EeW06WLhDaUQ",
        "outputId": "88bb3516-4ed9-4382-c6e6-625d11e2894d"
      },
      "source": [
        "# Checking the new dataset \n",
        "total_flights = balanced_df.shape[0]\n",
        "flights_delayed = balanced_df[balanced_df.IsDelayed==1].shape[0]\n",
        "flights_not_delayed = balanced_df[balanced_df.IsDelayed==0].shape[0] \n",
        "\n",
        "print(f'Number of flights (total): {total_flights}')\n",
        "print(f'Number of flights delayed (class IsDelayed=1): {flights_delayed} ({100*flights_delayed/total_flights:.2f}%)')\n",
        "print(f'Number of flights not delayed (class IsDelayed=0): {flights_not_delayed} ({100*flights_not_delayed/total_flights:.2f}%)')"
      ],
      "execution_count": 19,
      "outputs": [
        {
          "output_type": "stream",
          "name": "stdout",
          "text": [
            "Number of flights (total): 409912\n",
            "Number of flights delayed (class IsDelayed=1): 204956 (50.00%)\n",
            "Number of flights not delayed (class IsDelayed=0): 204956 (50.00%)\n"
          ]
        }
      ]
    },
    {
      "cell_type": "markdown",
      "metadata": {
        "id": "vrfkRnM1sVAF"
      },
      "source": [
        "### Train-test splitting i entrenament dels models:"
      ]
    },
    {
      "cell_type": "code",
      "metadata": {
        "colab": {
          "base_uri": "https://localhost:8080/"
        },
        "id": "cBgpjj9EDSEV",
        "outputId": "e1eba4c6-f0c9-49c5-b6fd-e4bf44589995"
      },
      "source": [
        "df_X_train, df_X_test, df_y_train, df_y_test = train_test_split(balanced_df[features], balanced_df[target], test_size=0.3, random_state=RS, shuffle=True, stratify=balanced_df[target])\n",
        "\n",
        "total_size = balanced_df.shape[0]\n",
        "train_size = df_X_train.shape[0]\n",
        "test_size = df_X_test.shape[0]\n",
        "\n",
        "print(f'Total size of the dataset: {total_size} samples')\n",
        "print(f'Check of training set size: {train_size} samples ({100*train_size/total_size:.2f}%)')\n",
        "print(f'Check of test set size: {test_size} samples ({100*test_size/total_size:.2f}%)')"
      ],
      "execution_count": 20,
      "outputs": [
        {
          "output_type": "stream",
          "name": "stdout",
          "text": [
            "Total size of the dataset: 409912 samples\n",
            "Check of training set size: 286938 samples (70.00%)\n",
            "Check of test set size: 122974 samples (30.00%)\n"
          ]
        }
      ]
    },
    {
      "cell_type": "markdown",
      "metadata": {
        "id": "t7HEjfAbT7uR"
      },
      "source": [
        "Per no repetir codi (DRY) en els següents exercicis, creem 2 funcions:\n",
        "- **train_test_models** per entrenar tots els models usant el Training Set (mostrejat si és massa gran) i evaluar-lo sobre el Test Set (sencer). \n",
        "- **plot_predictions** per a poder veure visualment (gràficament) uns quants valors reals de IsDelayed i les prediccions corresponents per a cada model (previament entrenat). Important: usant *random_state=None* cada cop que executem la funció dibuixa N mostres aleatòries, altrament sempre dibuixarà les mateixes mostres."
      ]
    },
    {
      "cell_type": "code",
      "metadata": {
        "id": "scBc9U7kNvN1"
      },
      "source": [
        "def train_test_models(models, df_X_train, df_y_train, df_X_test, df_y_test, train_size=None):\n",
        "  '''\n",
        "  Trains all the models (pipelines) in the list \"models\" using a training set\n",
        "  and evaluates them using a test set\n",
        "\n",
        "  Parameters:\n",
        "    - models: list of models (pipelines) to fit (train)\n",
        "    - df_X_train and df_y_train: DataFrames (training set) of features and target (isDelayed)\n",
        "    - train_size: number of samples to use for training, picked using random sampling.\n",
        "      · 'None' to use the full training set (i.e. without sampling)\n",
        "      · Integer to use the same sample size for all models\n",
        "      · List of Integers to use a different sample size for each model\n",
        "    - verbose: True to show the progress for debugging (i.e. which models is being processed at each moment)\n",
        "  \n",
        "  Returns:\n",
        "    - models: trained models\n",
        "    - train_indices: indices of the samples used for training (in case of not using the full training set)\n",
        "    - train_metrics: dictionary containing MSE and R2 metrics computed on the \n",
        "      (sampled) training set. Includes also the training time.\n",
        "    - test_metrics: dictionary containing MSE and R2 metrics computed on the full test set\n",
        "  \n",
        "  Prints:\n",
        "    - the returned data printed in tabular format\n",
        "  '''\n",
        "  \n",
        "  # Sampling of the training set ('None' for no-sampling i.e. full training set)\n",
        "  if train_size == None:\n",
        "    train_indices = [df_X_train.index.to_list()] * len(models)\n",
        "  elif isinstance(train_size, int):\n",
        "    train_indices = [df_X_train.sample(train_size, random_state=RS).index.to_list()] * len(models)\n",
        "  elif isinstance(train_size, list):\n",
        "    train_indices = list()\n",
        "    for i, size in enumerate(train_size):\n",
        "      if size == None:\n",
        "        train_indices.append(df_X_train.index.to_list())\n",
        "      else:\n",
        "        train_indices.append(df_X_train.sample(size, random_state=RS).index.to_list())\n",
        "\n",
        "  # We iterate over the list of models, showing a progress bar (TQDM)\n",
        "  for i, model in enumerate(tqdm(models)):  \n",
        "    print(f\"Model: {model.steps[-1][0]}. Training size: {len(train_indices[i])} samples. \", end='')\n",
        "\n",
        "    X = df_X_train.loc[train_indices[i],:]\n",
        "    y = df_y_train.loc[train_indices[i],:]\n",
        "    # Model training (fitting)\n",
        "    start = time.time()\n",
        "    model.fit(X, y)\n",
        "    stop = time.time()\n",
        "    training_time = stop-start\n",
        "    print(f\"Training time: {training_time:.2f} seconds. \", end='')\n",
        "\n",
        "    # Metrics evaluated on the full test set\n",
        "    start = time.time()\n",
        "    y_pred_test = model.predict(df_X_test)\n",
        "    stop = time.time()\n",
        "    test_time = stop-start\n",
        "    print(f\"Test time: {test_time:.2f} seconds.\\n\")\n",
        "    print(classification_report(df_y_test, y_pred_test))\n",
        "    print(f\"-----------------------------------------------------\\n\")\n",
        "  \n",
        "  return models, train_indices\n"
      ],
      "execution_count": 21,
      "outputs": []
    },
    {
      "cell_type": "code",
      "metadata": {
        "id": "QExgcUf75CZk"
      },
      "source": [
        "def plot_confusion_matrix(trained_models, df_X_test, df_y_test):\n",
        "  '''\n",
        "  Plots the confusion matrix of all models\n",
        "\n",
        "  Parameters:\n",
        "    - trained_models: list of models (pipelines) already trained\n",
        "    - df_X_test and df_y_test: DataFrames of features (X) and target IsDelayed (y)\n",
        "  \n",
        "  Plots:\n",
        "    - the confusion matrices of each model\n",
        "  '''\n",
        "\n",
        "  f, axes = plt.subplots(1, len(trained_models), figsize=(25, 5), sharey='row')\n",
        "\n",
        "  for i, model in enumerate(tqdm(trained_models)):\n",
        "      model_name = model.steps[-1][0]\n",
        "      y_pred = model.predict(df_X_test)\n",
        "      cf_matrix = confusion_matrix(df_y_test, y_pred)\n",
        "      disp = ConfusionMatrixDisplay(cf_matrix, display_labels=[0,1])\n",
        "      disp.plot(ax=axes[i], values_format='')\n",
        "      disp.ax_.set_title(f'Model: {model_name}')\n",
        "      disp.im_.colorbar.remove()\n",
        "\n",
        "  plt.subplots_adjust(wspace=0.40, hspace=0.1)\n",
        "\n",
        "  f.colorbar(disp.im_, ax=axes)\n",
        "  plt.suptitle(\"Confusion matrices for 'IsDelayed'\")\n",
        "  plt.show()"
      ],
      "execution_count": 22,
      "outputs": []
    },
    {
      "cell_type": "code",
      "metadata": {
        "colab": {
          "base_uri": "https://localhost:8080/",
          "height": 933,
          "referenced_widgets": [
            "754946335bf44558a3b528a8a967470e",
            "250d625167e64adc9f43cc033d221478",
            "115fb36dd334417982ea95f27012a93c",
            "b72801f737c2497bb9411a2321cf77d6",
            "ad589aace5d141c8ae239fe6641258d1",
            "c86ca99885b74c1da12a3691eba4f173",
            "89770d1688ba461794695e568a9d82c9",
            "accf9482d5124bbc80f25e26e86f92fc",
            "0b60ce06d905447c9692cb35bfd8541e",
            "dea08e74c13948bfbefaea9f7d7018d2",
            "baae050eecbd4deba3e962dc8456d363"
          ]
        },
        "id": "jSSPBfz-_vB2",
        "outputId": "661e4593-94d3-476e-93fc-eeb206e9d2c2"
      },
      "source": [
        "models, indices_train = train_test_models(models, \n",
        "                                                df_X_train, df_y_train, \n",
        "                                                df_X_test, df_y_test, train_size=10_000)"
      ],
      "execution_count": 26,
      "outputs": [
        {
          "output_type": "display_data",
          "data": {
            "application/vnd.jupyter.widget-view+json": {
              "model_id": "754946335bf44558a3b528a8a967470e",
              "version_minor": 0,
              "version_major": 2
            },
            "text/plain": [
              "  0%|          | 0/4 [00:00<?, ?it/s]"
            ]
          },
          "metadata": {}
        },
        {
          "output_type": "stream",
          "name": "stdout",
          "text": [
            "Model: decision_tree. Training size: 10000 samples. Training time: 0.93 seconds. Test time: 0.43 seconds.\n",
            "\n",
            "              precision    recall  f1-score   support\n",
            "\n",
            "           0       0.80      0.84      0.82     61487\n",
            "           1       0.83      0.79      0.81     61487\n",
            "\n",
            "    accuracy                           0.81    122974\n",
            "   macro avg       0.81      0.81      0.81    122974\n",
            "weighted avg       0.81      0.81      0.81    122974\n",
            "\n",
            "-----------------------------------------------------\n",
            "\n",
            "Model: knn. Training size: 10000 samples. Training time: 0.05 seconds. Test time: 84.94 seconds.\n",
            "\n",
            "              precision    recall  f1-score   support\n",
            "\n",
            "           0       0.67      0.80      0.73     61487\n",
            "           1       0.76      0.61      0.68     61487\n",
            "\n",
            "    accuracy                           0.71    122974\n",
            "   macro avg       0.71      0.71      0.70    122974\n",
            "weighted avg       0.71      0.71      0.70    122974\n",
            "\n",
            "-----------------------------------------------------\n",
            "\n",
            "Model: logistic_regression. Training size: 10000 samples. Training time: 1.11 seconds. Test time: 0.40 seconds.\n",
            "\n",
            "              precision    recall  f1-score   support\n",
            "\n",
            "           0       0.83      0.91      0.87     61487\n",
            "           1       0.90      0.82      0.86     61487\n",
            "\n",
            "    accuracy                           0.86    122974\n",
            "   macro avg       0.87      0.86      0.86    122974\n",
            "weighted avg       0.87      0.86      0.86    122974\n",
            "\n",
            "-----------------------------------------------------\n",
            "\n",
            "Model: svm. Training size: 10000 samples. Training time: 4.34 seconds. Test time: 35.96 seconds.\n",
            "\n",
            "              precision    recall  f1-score   support\n",
            "\n",
            "           0       0.80      0.95      0.87     61487\n",
            "           1       0.94      0.77      0.84     61487\n",
            "\n",
            "    accuracy                           0.86    122974\n",
            "   macro avg       0.87      0.86      0.86    122974\n",
            "weighted avg       0.87      0.86      0.86    122974\n",
            "\n",
            "-----------------------------------------------------\n",
            "\n"
          ]
        }
      ]
    },
    {
      "cell_type": "code",
      "metadata": {
        "colab": {
          "base_uri": "https://localhost:8080/",
          "height": 373,
          "referenced_widgets": [
            "91fd4966f65f44cdbf93d8a59ea885cd",
            "e715e1620cd649498cf075c7ed82bfba",
            "e3a97532b22e41d4ad18ca46713b0f4a",
            "b30bed3105d84d16ad607cb8441a1777",
            "5892f51e865846d3ac7ede0290f0c31b",
            "6e1734e909314a37a123b4ba41b7872b",
            "65ff96461df64b709800d726ea910af6",
            "614500ef192143e1b8b7dd1a5a278823",
            "dcf49361c99a4b3787431a517559e48f",
            "f45ba1f080bb4c36b057d504723c3fc4",
            "228cd5e0aed544378f95a95d612159c9"
          ]
        },
        "id": "zE5QewopFpfb",
        "outputId": "6919eee7-f5d2-43db-b7f7-327a947a263a"
      },
      "source": [
        "plot_confusion_matrix(models, df_X_test, df_y_test)"
      ],
      "execution_count": 27,
      "outputs": [
        {
          "output_type": "display_data",
          "data": {
            "application/vnd.jupyter.widget-view+json": {
              "model_id": "91fd4966f65f44cdbf93d8a59ea885cd",
              "version_minor": 0,
              "version_major": 2
            },
            "text/plain": [
              "  0%|          | 0/4 [00:00<?, ?it/s]"
            ]
          },
          "metadata": {}
        },
        {
          "output_type": "display_data",
          "data": {
            "image/png": "[encoded data removed]",
            "text/plain": [
              "<Figure size 1800x360 with 5 Axes>"
            ]
          },
          "metadata": {
            "needs_background": "light"
          }
        }
      ]
    },
    {
      "cell_type": "markdown",
      "metadata": {
        "id": "Zj7oIZhvl6iX"
      },
      "source": [
        "Observacions:\n",
        "- L'accuracy del model KNN és significativament inferior al dels altres models. Com que el dataset està balancejat, Accuracy és un bon indicador per evaluar i comparar els models.\n",
        "- Dels quatre models, el que té millor accuracy és Logistic Regression i SVM (0.86)\n",
        "- Veiem a les matrius de confusió que els models tenen més tendència a classificar malament els vols amb retard (IsDelayed=1) que els que no tenen retard. En efecte en tots els models, la classe 0 té un Recall més gran que la classe 1 però una Precisió més petita."
      ]
    },
    {
      "cell_type": "markdown",
      "metadata": {
        "id": "abM9Mp_V2fDy"
      },
      "source": [
        "## Exercici 3\n",
        "Entrena’ls utilitzant els diferents paràmetres que admeten."
      ]
    },
    {
      "cell_type": "markdown",
      "metadata": {
        "id": "8WrhOXGRZTQW"
      },
      "source": [
        "Intentarem millorar el resultat modificant alguns dels paràmetres que permet cada model. Fem una còpia utilitzant \"clone\" per no sobreescriure els models que ja hem entrenat."
      ]
    },
    {
      "cell_type": "code",
      "metadata": {
        "id": "Cu5kChjAZeNS"
      },
      "source": [
        "# \"Clone\" does a deep copy of the model in an estimator without actually copying attached data. \n",
        "# It yields a new estimator with the SAME parameters that has NOT been fitted on any data.\n",
        "models2 = clone(models)\n",
        "\n",
        "# We try new values for the hyperparameters of each model\n",
        "#[dt_pipeline, knn_pipeline, lr_pipeline, svm_pipeline]\n",
        "\n",
        "# DecistionTree - models2[0]\n",
        "models2[0].set_params(decision_tree__max_depth=None,\n",
        "                      decision_tree__max_features='log2');\n",
        "\n",
        "# KNN - models2[1]\n",
        "models2[1].set_params(knn__regressor__n_neighbors=7);\n",
        "\n",
        "# Logistic Regression - models2[2]\n",
        "models2[2].set_params(logistic_regression__regressor__penalty='l1',\n",
        "                      logistic_regression__regressor__solver='saga')\n",
        "\n",
        "# SVM - models2[3]\n",
        "models2[3].set_params(svm__regressor__kernel='rbf',\n",
        "                      svm__regressor__gamma='auto');\n",
        "\n"
      ],
      "execution_count": 47,
      "outputs": []
    },
    {
      "cell_type": "code",
      "metadata": {
        "colab": {
          "base_uri": "https://localhost:8080/",
          "height": 967,
          "referenced_widgets": [
            "75c43469c79e4899b7d031a40cf0fad5",
            "957bf62e30914771abe4e4eb2b6ed055",
            "db36668d9ad249d5b9787e8399e30568",
            "8bbd8d468d3f45e890972a28aa089505",
            "ebc89436e9894fc2ad311990c8aa72d9",
            "4d8ed75d85aa4c048a0106932d127fb0",
            "c4bd321f5a574c49b441b4a53388e1bf",
            "25bc96bb05dd488bab0506a786c4a49f",
            "52a868a60eaf408692debddad5dcdff5",
            "1f5bdb99122747e6b02725db4c9ba2b6",
            "169a44ffe54e4259adf98f08c4167aef"
          ]
        },
        "id": "GcL-UDXqfyTe",
        "outputId": "3de01d23-af2d-43d4-a614-34f185319ba5"
      },
      "source": [
        "models2, indices_train = train_test_models(models2, \n",
        "                                                df_X_train, df_y_train, \n",
        "                                                df_X_test, df_y_test, train_size=[10_000, 10_000, 10_000, 10_000])"
      ],
      "execution_count": 48,
      "outputs": [
        {
          "output_type": "display_data",
          "data": {
            "application/vnd.jupyter.widget-view+json": {
              "model_id": "75c43469c79e4899b7d031a40cf0fad5",
              "version_minor": 0,
              "version_major": 2
            },
            "text/plain": [
              "  0%|          | 0/4 [00:00<?, ?it/s]"
            ]
          },
          "metadata": {}
        },
        {
          "output_type": "stream",
          "name": "stdout",
          "text": [
            "Model: decision_tree. Training size: 10000 samples. Training time: 0.19 seconds. Test time: 0.50 seconds.\n",
            "\n",
            "              precision    recall  f1-score   support\n",
            "\n",
            "           0       0.63      0.64      0.64     61487\n",
            "           1       0.64      0.63      0.63     61487\n",
            "\n",
            "    accuracy                           0.63    122974\n",
            "   macro avg       0.63      0.63      0.63    122974\n",
            "weighted avg       0.63      0.63      0.63    122974\n",
            "\n",
            "-----------------------------------------------------\n",
            "\n",
            "Model: knn. Training size: 10000 samples. Training time: 0.07 seconds. Test time: 103.36 seconds.\n",
            "\n",
            "              precision    recall  f1-score   support\n",
            "\n",
            "           0       0.68      0.83      0.74     61487\n",
            "           1       0.78      0.61      0.68     61487\n",
            "\n",
            "    accuracy                           0.72    122974\n",
            "   macro avg       0.73      0.72      0.71    122974\n",
            "weighted avg       0.73      0.72      0.71    122974\n",
            "\n",
            "-----------------------------------------------------\n",
            "\n",
            "Model: logistic_regression. Training size: 10000 samples. "
          ]
        },
        {
          "output_type": "stream",
          "name": "stderr",
          "text": [
            "/usr/local/lib/python3.7/dist-packages/sklearn/linear_model/_sag.py:354: ConvergenceWarning: The max_iter was reached which means the coef_ did not converge\n",
            "  ConvergenceWarning,\n"
          ]
        },
        {
          "output_type": "stream",
          "name": "stdout",
          "text": [
            "Training time: 5.27 seconds. Test time: 0.41 seconds.\n",
            "\n",
            "              precision    recall  f1-score   support\n",
            "\n",
            "           0       0.83      0.93      0.87     61487\n",
            "           1       0.92      0.80      0.86     61487\n",
            "\n",
            "    accuracy                           0.87    122974\n",
            "   macro avg       0.87      0.87      0.87    122974\n",
            "weighted avg       0.87      0.87      0.87    122974\n",
            "\n",
            "-----------------------------------------------------\n",
            "\n",
            "Model: svm. Training size: 10000 samples. Training time: 6.88 seconds. Test time: 59.99 seconds.\n",
            "\n",
            "              precision    recall  f1-score   support\n",
            "\n",
            "           0       0.65      0.98      0.78     61487\n",
            "           1       0.97      0.47      0.63     61487\n",
            "\n",
            "    accuracy                           0.72    122974\n",
            "   macro avg       0.81      0.72      0.71    122974\n",
            "weighted avg       0.81      0.72      0.71    122974\n",
            "\n",
            "-----------------------------------------------------\n",
            "\n"
          ]
        }
      ]
    },
    {
      "cell_type": "markdown",
      "metadata": {
        "id": "DrereC1sZX-r"
      },
      "source": [
        "Veiem que en base a l'Accuracy, hem millorat lleugerament els models de KNN i LogisticRegression però ha empitjorat la resta."
      ]
    },
    {
      "cell_type": "code",
      "metadata": {
        "colab": {
          "base_uri": "https://localhost:8080/",
          "height": 373,
          "referenced_widgets": [
            "d74c28c5a19d46c99e3a8e2877a796ff",
            "dff32d1de551411887ad0d0acba92cc7",
            "32385e03faeb4028b5e11d32a2d231bd",
            "52144c024c7343b6810967e321a575a1",
            "7e1d5bc1b864457eb4c158e7b0045a9d",
            "81edbc6d7a444a4dbaf74164ea80b201",
            "1728b6cce59543cdb7cbf217d6632dcd",
            "ae5bdbc7a1894057b30eeb059bd742ca",
            "36f3bc708c0542a5bbd2398446a8bc12",
            "66fb6f7f31774f338c063aa1a1a71e51",
            "b5795e95dc28429abf8c7584c8acad33"
          ]
        },
        "id": "QrRK0IZ-ZLSk",
        "outputId": "3010fddb-200c-4e40-d469-ca6073dc7e5a"
      },
      "source": [
        "plot_confusion_matrix(models2, df_X_test, df_y_test)"
      ],
      "execution_count": 49,
      "outputs": [
        {
          "output_type": "display_data",
          "data": {
            "application/vnd.jupyter.widget-view+json": {
              "model_id": "d74c28c5a19d46c99e3a8e2877a796ff",
              "version_minor": 0,
              "version_major": 2
            },
            "text/plain": [
              "  0%|          | 0/4 [00:00<?, ?it/s]"
            ]
          },
          "metadata": {}
        },
        {
          "output_type": "display_data",
          "data": {
            "image/png": "[encoded data removed]",
            "text/plain": [
              "<Figure size 1800x360 with 5 Axes>"
            ]
          },
          "metadata": {
            "needs_background": "light"
          }
        }
      ]
    },
    {
      "cell_type": "markdown",
      "metadata": {
        "id": "0ZYl3uzA2fA3"
      },
      "source": [
        "## Exercici 4\n",
        "Compara el seu rendiment utilitzant l’aproximació traint/test o cross-validation."
      ]
    },
    {
      "cell_type": "markdown",
      "metadata": {
        "id": "KXDw5G1q2yS4"
      },
      "source": [
        "L'aproximació train/test és la que hem utilitzat en els exercicis anteriors.\n",
        "Aquí utilitzarem CrossValidation per entrenar i evaluar cada model."
      ]
    },
    {
      "cell_type": "code",
      "metadata": {
        "id": "_0qrlxrlt5O4"
      },
      "source": [
        "def crossvalidate_models(models, df_X_train, df_y_train, sample_size=None, cv=3):\n",
        "  '''\n",
        "  Trains all the models (pipelines) in the list \"models\" using a training set\n",
        "  and evaluates them using a test set\n",
        "\n",
        "  Parameters:\n",
        "    - models: list of models (pipelines) to fit (train)\n",
        "    - df_X_train and df_y_train: DataFrames (training set) of features and target (isDelayed)\n",
        "    - train_size: number of samples to use for training, picked using random sampling.\n",
        "      · 'None' to use the full training set (i.e. without sampling)\n",
        "      · Integer to use the same sample size for all models\n",
        "      · List of Integers to use a different sample size for each model\n",
        "    - verbose: True to show the progress for debugging (i.e. which models is being processed at each moment)\n",
        "  \n",
        "  Prints:\n",
        "    - the average metrics for each model for all the k-folds\n",
        "  '''\n",
        "\n",
        "  #Make our customer score\n",
        "  def cv_classification_report(y_true, y_pred):\n",
        "    y_true = y_true.to_numpy()\n",
        "    originalclass.extend(y_true)\n",
        "    predictedclass.extend(y_pred)\n",
        "    return accuracy_score(y_true, y_pred) # return accuracy score\n",
        "\n",
        "  # Sampling of the training set ('None' for no-sampling i.e. full training set)\n",
        "  if sample_size == None:\n",
        "    idxs = [df_X_train.index.to_list()] * len(models)\n",
        "  elif isinstance(sample_size, int):\n",
        "    idxs = [df_X_train.sample(sample_size, random_state=RS).index.to_list()] * len(models)\n",
        "  elif isinstance(sample_size, list):\n",
        "    idxs = list()\n",
        "    for i, size in enumerate(sample_size):\n",
        "      if size == None:\n",
        "        idxs.append(df_X_train.index.to_list())\n",
        "      else:\n",
        "        idxs.append(df_X_train.sample(size, random_state=RS).index.to_list())\n",
        "\n",
        "  # We iterate over the list of models, showing a progress bar (TQDM)\n",
        "  for i, model in enumerate(tqdm(models)):\n",
        "    # Variables for average classification report\n",
        "    originalclass = []\n",
        "    predictedclass = []\n",
        "\n",
        "    print(f\"Model: {model.steps[-1][0]}. Total sample size: {len(idxs[i])} samples.\" )\n",
        "\n",
        "    X = df_X_train.loc[idxs[i],:]\n",
        "    y = df_y_train.loc[idxs[i],:]\n",
        "\n",
        "    # Cross validation\n",
        "    #score = cross_validate(model, X, y, cv=cv)\n",
        "\n",
        "    _ = cross_validate(model, X, y, cv=cv, scoring=make_scorer(cv_classification_report))\n",
        "\n",
        "    print(classification_report(originalclass, predictedclass))\n",
        "\n",
        "    print(f\"-----------------------------------------------------\\n\")\n",
        "  \n",
        "  return models\n"
      ],
      "execution_count": 50,
      "outputs": []
    },
    {
      "cell_type": "markdown",
      "metadata": {
        "id": "AjMIaHpmlDLN"
      },
      "source": [
        "Fem una còpia dels models (amb els paràmetres de l'exercici 2) per no sobreescriure'ls quan fem el cross-validation."
      ]
    },
    {
      "cell_type": "code",
      "metadata": {
        "id": "SRm8wTinfDz7"
      },
      "source": [
        "# \"Clone\" does a deep copy of the model in an estimator without actually copying attached data. \n",
        "# It yields a new estimator with the SAME parameters that has NOT been fitted on any data.\n",
        "models3 = clone(models)"
      ],
      "execution_count": 57,
      "outputs": []
    },
    {
      "cell_type": "code",
      "metadata": {
        "colab": {
          "base_uri": "https://localhost:8080/",
          "height": 865,
          "referenced_widgets": [
            "c4db05bcb3c64cd1aecce9497cd19a8e",
            "cd830c3562f1476aae7a3d6679c86792",
            "e017f32bcb3e46cbb95bb23504d58c87",
            "559d85dfa0624b3196c7706121f499fd",
            "9942435f0a014b49886a74ad3eeae561",
            "8d49018902b04b93a1c2a8bb1a36932e",
            "0fc8879472b6476bbc64c11cf4a6fb89",
            "1dee13b41ede41c894af972b498ec330",
            "3fc7fd393d3641ddb8f7e2120987da31",
            "fb976a58f8554ef3be4804aba5351ae1",
            "7e15606c78874f59b36fb63e85c4c727"
          ]
        },
        "id": "E7l58Evr66NA",
        "outputId": "76b59f57-78a3-4d6c-c1bb-21122c3a138b"
      },
      "source": [
        "# models3 = crossvalidate_models(models3, df_X_train, df_y_train, cv=3)\n",
        "models3 = crossvalidate_models(models3, balanced_df[features], balanced_df[target], cv=3, sample_size=120_000)"
      ],
      "execution_count": 58,
      "outputs": [
        {
          "output_type": "display_data",
          "data": {
            "application/vnd.jupyter.widget-view+json": {
              "model_id": "c4db05bcb3c64cd1aecce9497cd19a8e",
              "version_minor": 0,
              "version_major": 2
            },
            "text/plain": [
              "  0%|          | 0/4 [00:00<?, ?it/s]"
            ]
          },
          "metadata": {}
        },
        {
          "output_type": "stream",
          "name": "stdout",
          "text": [
            "Model: decision_tree. Total sample size: 120000 samples.\n",
            "              precision    recall  f1-score   support\n",
            "\n",
            "           0       0.81      0.85      0.83     59921\n",
            "           1       0.84      0.81      0.82     60079\n",
            "\n",
            "    accuracy                           0.83    120000\n",
            "   macro avg       0.83      0.83      0.83    120000\n",
            "weighted avg       0.83      0.83      0.83    120000\n",
            "\n",
            "-----------------------------------------------------\n",
            "\n",
            "Model: knn. Total sample size: 120000 samples.\n",
            "              precision    recall  f1-score   support\n",
            "\n",
            "           0       0.69      0.82      0.75     59921\n",
            "           1       0.78      0.64      0.70     60079\n",
            "\n",
            "    accuracy                           0.73    120000\n",
            "   macro avg       0.74      0.73      0.73    120000\n",
            "weighted avg       0.74      0.73      0.73    120000\n",
            "\n",
            "-----------------------------------------------------\n",
            "\n",
            "Model: logistic_regression. Total sample size: 120000 samples.\n",
            "              precision    recall  f1-score   support\n",
            "\n",
            "           0       0.84      0.92      0.88     59921\n",
            "           1       0.91      0.83      0.87     60079\n",
            "\n",
            "    accuracy                           0.87    120000\n",
            "   macro avg       0.87      0.87      0.87    120000\n",
            "weighted avg       0.87      0.87      0.87    120000\n",
            "\n",
            "-----------------------------------------------------\n",
            "\n",
            "Model: svm. Total sample size: 120000 samples.\n",
            "              precision    recall  f1-score   support\n",
            "\n",
            "           0       0.83      0.95      0.89     59921\n",
            "           1       0.94      0.81      0.87     60079\n",
            "\n",
            "    accuracy                           0.88    120000\n",
            "   macro avg       0.89      0.88      0.88    120000\n",
            "weighted avg       0.89      0.88      0.88    120000\n",
            "\n",
            "-----------------------------------------------------\n",
            "\n"
          ]
        }
      ]
    },
    {
      "cell_type": "markdown",
      "metadata": {
        "id": "vuquv1U54AiQ"
      },
      "source": [
        "Obtenim mètriques similars a les que hem tingut fent train/test."
      ]
    },
    {
      "cell_type": "markdown",
      "metadata": {
        "id": "LMq_e4CU2e90"
      },
      "source": [
        "## Exercici 5\n",
        "Realitza algun procés d’enginyeria de variables per millorar-ne la predicció"
      ]
    },
    {
      "cell_type": "code",
      "metadata": {
        "id": "y4E_9HFUjubV"
      },
      "source": [
        "# Copy of the original training dataframe\n",
        "df2_X_train = df_X_train.copy()\n",
        "\n",
        "# We find the non-outliers using the Zscore method and get the indices of the rows\n",
        "idx = df2_X_train.loc[(np.abs(stats.zscore(df2_X_train[num_columns])) < 3).all(axis=1)].index"
      ],
      "execution_count": 82,
      "outputs": []
    },
    {
      "cell_type": "code",
      "metadata": {
        "id": "ymJYf3sMnoXn"
      },
      "source": [
        "# Filtered dataframes (without outliers)\n",
        "df2_X_train = df2_X_train.loc[idx,:]\n",
        "df2_y_train = df_y_train.loc[idx,:]"
      ],
      "execution_count": 83,
      "outputs": []
    },
    {
      "cell_type": "code",
      "metadata": {
        "colab": {
          "base_uri": "https://localhost:8080/",
          "height": 933,
          "referenced_widgets": [
            "ce44efbec27849dd8222472649585a50",
            "d88eec527ad44ab9a5f8f3f663eda132",
            "ac07d5260e4f44f7b9e7e2d52eb665d3",
            "0e6cdc548dec4ce4928128bb1dbb69b1",
            "b698a910df3f425eaea7442c2db1068a",
            "03d1227a28834f45a82da7d29ac71644",
            "59de3b40ffac4168ae2345188c1af106",
            "82e33b719c5d48b6abfb5c9f13afd226",
            "c60f27bcc5a44d9dac84be007605631f",
            "2513e8d25b374c6cb04c46bcabdd2c93",
            "03207e8a926343bd91b24daa7db703f3"
          ]
        },
        "id": "VCYXnWUSoEdX",
        "outputId": "c41e7eb9-3d69-45cc-e80a-a6e53854822b"
      },
      "source": [
        "# We train again the models with the same parameters as in exercices 1 and 2\n",
        "# but using the new training dataset\n",
        "models4 = clone(models)\n",
        "models4, indices_train = train_test_models(models4, \n",
        "                                                df2_X_train, df2_y_train, \n",
        "                                                df_X_test, df_y_test, train_size=10_000)"
      ],
      "execution_count": 79,
      "outputs": [
        {
          "output_type": "display_data",
          "data": {
            "application/vnd.jupyter.widget-view+json": {
              "model_id": "ce44efbec27849dd8222472649585a50",
              "version_minor": 0,
              "version_major": 2
            },
            "text/plain": [
              "  0%|          | 0/4 [00:00<?, ?it/s]"
            ]
          },
          "metadata": {}
        },
        {
          "output_type": "stream",
          "name": "stdout",
          "text": [
            "Model: decision_tree. Training size: 10000 samples. Training time: 0.83 seconds. Test time: 0.44 seconds.\n",
            "\n",
            "              precision    recall  f1-score   support\n",
            "\n",
            "           0       0.80      0.80      0.80     61487\n",
            "           1       0.80      0.80      0.80     61487\n",
            "\n",
            "    accuracy                           0.80    122974\n",
            "   macro avg       0.80      0.80      0.80    122974\n",
            "weighted avg       0.80      0.80      0.80    122974\n",
            "\n",
            "-----------------------------------------------------\n",
            "\n",
            "Model: knn. Training size: 10000 samples. Training time: 0.05 seconds. Test time: 103.45 seconds.\n",
            "\n",
            "              precision    recall  f1-score   support\n",
            "\n",
            "           0       0.72      0.84      0.78     61487\n",
            "           1       0.81      0.68      0.74     61487\n",
            "\n",
            "    accuracy                           0.76    122974\n",
            "   macro avg       0.77      0.76      0.76    122974\n",
            "weighted avg       0.77      0.76      0.76    122974\n",
            "\n",
            "-----------------------------------------------------\n",
            "\n",
            "Model: logistic_regression. Training size: 10000 samples. Training time: 0.72 seconds. Test time: 0.42 seconds.\n",
            "\n",
            "              precision    recall  f1-score   support\n",
            "\n",
            "           0       0.84      0.87      0.86     61487\n",
            "           1       0.87      0.84      0.85     61487\n",
            "\n",
            "    accuracy                           0.86    122974\n",
            "   macro avg       0.86      0.86      0.86    122974\n",
            "weighted avg       0.86      0.86      0.86    122974\n",
            "\n",
            "-----------------------------------------------------\n",
            "\n",
            "Model: svm. Training size: 10000 samples. Training time: 4.04 seconds. Test time: 33.37 seconds.\n",
            "\n",
            "              precision    recall  f1-score   support\n",
            "\n",
            "           0       0.82      0.90      0.86     61487\n",
            "           1       0.89      0.80      0.84     61487\n",
            "\n",
            "    accuracy                           0.85    122974\n",
            "   macro avg       0.85      0.85      0.85    122974\n",
            "weighted avg       0.85      0.85      0.85    122974\n",
            "\n",
            "-----------------------------------------------------\n",
            "\n"
          ]
        }
      ]
    },
    {
      "cell_type": "markdown",
      "metadata": {
        "id": "2zxRU8JGqcg9"
      },
      "source": [
        "Veiem que eliminant els outliers hem millorat significativament la preficció del model KNN tot i que la dels altres models no ha canviat o ha empitjorat lleurgerament."
      ]
    },
    {
      "cell_type": "markdown",
      "metadata": {
        "id": "Jgy3FWKb2e7p"
      },
      "source": [
        "## Exercici 6\n",
        "No utilitzis la variable DepDelay a l’hora de fer prediccions."
      ]
    },
    {
      "cell_type": "code",
      "metadata": {
        "id": "iwRYyluJvye7"
      },
      "source": [
        "# We clone the model from exercises 1 and 2\n",
        "models5 = clone(models)"
      ],
      "execution_count": 85,
      "outputs": []
    },
    {
      "cell_type": "code",
      "metadata": {
        "colab": {
          "base_uri": "https://localhost:8080/"
        },
        "id": "gFqte_CCrN-B",
        "outputId": "b4bc3f94-c28f-41d3-aac8-7861acc1195f"
      },
      "source": [
        "# We split the features in 2 groups, depending on the preprocessing to be performed\n",
        "# At this moment we consider Month, Day, DayOfWeek as numerical features (not categorical)\n",
        "\n",
        "# Categorical features\n",
        "cat_columns5 = ['TailNum', 'UniqueCarrier', 'Dest', 'Origin']\n",
        "\n",
        "# Numerical features (all the rest). Note that \"DepDelay\" has been removed\n",
        "num_columns5 = ['Month', 'DayOfMonth', 'DayOfWeek', 'DepTime', \n",
        "               'CRSArrTime', 'CRSElapsedTime', 'Distance', 'TaxiOut']\n",
        "\n",
        "target_column5 = ['IsDelayed']\n",
        "\n",
        "print(f\"Categorical columns are: {cat_columns5}\")\n",
        "print(f\"Numerical columns are: {num_columns5}\")\n",
        "print(f\"Target column is: {target_column5}\")"
      ],
      "execution_count": 87,
      "outputs": [
        {
          "output_type": "stream",
          "name": "stdout",
          "text": [
            "Categorical columns are: ['TailNum', 'UniqueCarrier', 'Dest', 'Origin']\n",
            "Numerical columns are: ['Month', 'DayOfMonth', 'DayOfWeek', 'DepTime', 'CRSArrTime', 'CRSElapsedTime', 'Distance', 'TaxiOut']\n",
            "Target column is: ['IsDelayed']\n"
          ]
        }
      ]
    },
    {
      "cell_type": "code",
      "metadata": {
        "id": "pT-VspYArjO3"
      },
      "source": [
        "# Preprocessing/Transformations steps for the pipelines\n",
        "\n",
        "# Transformations for numerical features:\n",
        "#   - StandardScaler()\n",
        "num_pipe5 = Pipeline([('scaler', StandardScaler())])\n",
        "\n",
        "# Transformations for categorical features\n",
        "#   - One Hot Encoding\n",
        "cat_pipe5 = Pipeline([('ohe', OneHotEncoder(handle_unknown='ignore'))])\n",
        "\n",
        "# We combine both transformations\n",
        "preprocessor5 = ColumnTransformer(transformers=[\n",
        "                                               ('num_transf', num_pipe5, num_columns5),\n",
        "                                               ('cat_transf', cat_pipe5, cat_columns5)\n",
        "                                               ],\n",
        "                                 verbose=False)\n",
        "\n",
        "# For some models, the target needs to be a 1D array (not a 2D array).\n",
        "# So we create this transformation to convert to 1D and we will use it when needed\n",
        "reshape1D_transf = FunctionTransformer(np.ravel)"
      ],
      "execution_count": 88,
      "outputs": []
    },
    {
      "cell_type": "code",
      "metadata": {
        "id": "wiJJVGMOOdP0"
      },
      "source": [
        "# We replace the preprocessing part in all models\n",
        "for model in models5:\n",
        "  model.steps.pop(0);\n",
        "  model.steps.insert(0,['preprocess5', preprocessor5])"
      ],
      "execution_count": 89,
      "outputs": []
    },
    {
      "cell_type": "code",
      "metadata": {
        "id": "7foMTyaYsBad"
      },
      "source": [
        "# We drop the \"DepDelay\" column in both training and test sets\n",
        "df_X_train5 = df_X_train.drop(columns=['DepDelay'])\n",
        "df_X_test5 = df_X_test.drop(columns=['DepDelay'])"
      ],
      "execution_count": 91,
      "outputs": []
    },
    {
      "cell_type": "code",
      "metadata": {
        "colab": {
          "base_uri": "https://localhost:8080/",
          "height": 933,
          "referenced_widgets": [
            "264bb78fa1e64deabd03e1dae2a4aa0a",
            "4bacf864c52c4ae39d3fd5e7b2a41917",
            "da30726f3cee4efe9398f5b9686e988f",
            "173778ef8c7b4c14b98e46df840069f4",
            "f196f8604a8b4ca1977d8dbad5902841",
            "fcc97e1aabf84ad6bc3665b1e1324ddc",
            "fa3cf07e51cc44aa8a5b5c16548c3c4c",
            "f0e57398c4eb42a6996a6085b56a86c5",
            "623ed12640e54ecc9f443cbed87ccf06",
            "f6e3f8cdf2f24ad9af893ee3d1231230",
            "1229b5ff87224c57b6031ad897690c4b"
          ]
        },
        "id": "qyeBGwSmvjhZ",
        "outputId": "64cfbba8-a8aa-4cbc-b244-db16bbf5b9f7"
      },
      "source": [
        "models5, indices_train = train_test_models(models5, \n",
        "                                                df_X_train5, df_y_train, \n",
        "                                                df_X_test5, df_y_test, train_size=10_000)"
      ],
      "execution_count": 92,
      "outputs": [
        {
          "output_type": "display_data",
          "data": {
            "application/vnd.jupyter.widget-view+json": {
              "model_id": "264bb78fa1e64deabd03e1dae2a4aa0a",
              "version_minor": 0,
              "version_major": 2
            },
            "text/plain": [
              "  0%|          | 0/4 [00:00<?, ?it/s]"
            ]
          },
          "metadata": {}
        },
        {
          "output_type": "stream",
          "name": "stdout",
          "text": [
            "Model: decision_tree. Training size: 10000 samples. Training time: 0.86 seconds. Test time: 0.47 seconds.\n",
            "\n",
            "              precision    recall  f1-score   support\n",
            "\n",
            "           0       0.65      0.66      0.65     61487\n",
            "           1       0.65      0.64      0.64     61487\n",
            "\n",
            "    accuracy                           0.65    122974\n",
            "   macro avg       0.65      0.65      0.65    122974\n",
            "weighted avg       0.65      0.65      0.65    122974\n",
            "\n",
            "-----------------------------------------------------\n",
            "\n",
            "Model: knn. Training size: 10000 samples. Training time: 0.05 seconds. Test time: 99.47 seconds.\n",
            "\n",
            "              precision    recall  f1-score   support\n",
            "\n",
            "           0       0.61      0.68      0.64     61487\n",
            "           1       0.64      0.57      0.60     61487\n",
            "\n",
            "    accuracy                           0.62    122974\n",
            "   macro avg       0.63      0.62      0.62    122974\n",
            "weighted avg       0.63      0.62      0.62    122974\n",
            "\n",
            "-----------------------------------------------------\n",
            "\n",
            "Model: logistic_regression. Training size: 10000 samples. Training time: 1.31 seconds. Test time: 0.47 seconds.\n",
            "\n",
            "              precision    recall  f1-score   support\n",
            "\n",
            "           0       0.68      0.70      0.69     61487\n",
            "           1       0.69      0.66      0.68     61487\n",
            "\n",
            "    accuracy                           0.68    122974\n",
            "   macro avg       0.68      0.68      0.68    122974\n",
            "weighted avg       0.68      0.68      0.68    122974\n",
            "\n",
            "-----------------------------------------------------\n",
            "\n",
            "Model: svm. Training size: 10000 samples. Training time: 6.87 seconds. Test time: 53.03 seconds.\n",
            "\n",
            "              precision    recall  f1-score   support\n",
            "\n",
            "           0       0.70      0.81      0.75     61487\n",
            "           1       0.78      0.66      0.71     61487\n",
            "\n",
            "    accuracy                           0.73    122974\n",
            "   macro avg       0.74      0.73      0.73    122974\n",
            "weighted avg       0.74      0.73      0.73    122974\n",
            "\n",
            "-----------------------------------------------------\n",
            "\n"
          ]
        }
      ]
    },
    {
      "cell_type": "code",
      "metadata": {
        "colab": {
          "base_uri": "https://localhost:8080/",
          "height": 373,
          "referenced_widgets": [
            "bbbf45b2d0ef47a89e08a59aad334a3b",
            "74ebe6dca35d42f5b86d6b2c0f1cd7c1",
            "dffc06a76d87415ab5bc0d7e9a455e4a",
            "380123413c0b4f739890ac7ee45dc74e",
            "19dac9d4f28340e481d51e2c1c7aedc7",
            "b8821aba4e76473e91f2ca3000a5cdcc",
            "8332cad61502499e905f1da55395ccb1",
            "455470de4f2e42298a1857e7f1c57d86",
            "8916ce63ce38488eaaec735c086c05b7",
            "df073c59f6b14f3bb6b6a865176ef77f",
            "f948ec12753b431ab7221fdf762e86d7"
          ]
        },
        "id": "yFRjqkXHsuOc",
        "outputId": "32709a46-0d32-42ae-a5f7-36c8fddc6a49"
      },
      "source": [
        "plot_confusion_matrix(models5, df_X_test5, df_y_test)"
      ],
      "execution_count": 93,
      "outputs": [
        {
          "output_type": "display_data",
          "data": {
            "application/vnd.jupyter.widget-view+json": {
              "model_id": "bbbf45b2d0ef47a89e08a59aad334a3b",
              "version_minor": 0,
              "version_major": 2
            },
            "text/plain": [
              "  0%|          | 0/4 [00:00<?, ?it/s]"
            ]
          },
          "metadata": {}
        },
        {
          "output_type": "display_data",
          "data": {
            "image/png": "[encoded data removed]",
            "text/plain": [
              "<Figure size 1800x360 with 5 Axes>"
            ]
          },
          "metadata": {
            "needs_background": "light"
          }
        }
      ]
    },
    {
      "cell_type": "markdown",
      "metadata": {
        "id": "aoPd9wgaUfyK"
      },
      "source": [
        "Veiem com amb els mateixos models amb els mateixos hiperparàmetres però entrenats sense la variable 'DepDelay' no s'obtenen bones prediccions. Es podria intentar millorar les prediccions ajustant els hiperparàmetres però ja es veu que no es podrà arribar a un resultat tant bo, ja que la variable DepDelay està fortament correlacionada amb el target ArrDelay i per tant amb IsDelayed. En efecte, té sentit pensar que un retard en la sortida té un fort impacte en el retard a l'arribada."
      ]
    }
  ]
}